{
 "cells": [
  {
   "cell_type": "markdown",
   "metadata": {},
   "source": [
    "# Logistic Regression\n"
   ]
  },
  {
   "cell_type": "markdown",
   "metadata": {},
   "source": [
    "Goal of this exercise is predict whether a student gets admitted into a university.\n",
    "\n",
    "From the past you know  for a number of students what their scores were on 2 admission exams. \n",
    "And you also know that after 3 years, they passed a final exam to the profession of ICS manager.\n",
    "You will use this data to train a model of logistic regression. \n",
    "For new students, you want the 2 admission exams to determine if the student get's allowed in. "
   ]
  },
  {
   "cell_type": "code",
   "execution_count": 1,
   "metadata": {
    "ExecuteTime": {
     "end_time": "2021-10-07T09:22:37.751608Z",
     "start_time": "2021-10-07T09:22:37.747311Z"
    }
   },
   "outputs": [],
   "source": [
    "# #################################################\n",
    "# FILL IN THE NECESSARY CODE.\n",
    "# Import the necessary packages\n",
    "# This time we are going to use an optimizer out of the scipy.optimize package. Abreviate this package to opt.\n",
    "\n",
    "import numpy as np\n",
    "import pandas as pd\n",
    "import matplotlib.pyplot as plt\n",
    "import scipy.optimize as opt    # more on this later"
   ]
  },
  {
   "cell_type": "markdown",
   "metadata": {},
   "source": [
    "Next, we read the data that we have"
   ]
  },
  {
   "cell_type": "code",
   "execution_count": 2,
   "metadata": {
    "ExecuteTime": {
     "end_time": "2021-10-07T09:22:37.783334Z",
     "start_time": "2021-10-07T09:22:37.753305Z"
    }
   },
   "outputs": [
    {
     "data": {
      "text/html": [
       "<div>\n",
       "<style scoped>\n",
       "    .dataframe tbody tr th:only-of-type {\n",
       "        vertical-align: middle;\n",
       "    }\n",
       "\n",
       "    .dataframe tbody tr th {\n",
       "        vertical-align: top;\n",
       "    }\n",
       "\n",
       "    .dataframe thead th {\n",
       "        text-align: right;\n",
       "    }\n",
       "</style>\n",
       "<table border=\"1\" class=\"dataframe\">\n",
       "  <thead>\n",
       "    <tr style=\"text-align: right;\">\n",
       "      <th></th>\n",
       "      <th>0</th>\n",
       "      <th>1</th>\n",
       "      <th>2</th>\n",
       "    </tr>\n",
       "  </thead>\n",
       "  <tbody>\n",
       "    <tr>\n",
       "      <th>0</th>\n",
       "      <td>34.623660</td>\n",
       "      <td>78.024693</td>\n",
       "      <td>0</td>\n",
       "    </tr>\n",
       "    <tr>\n",
       "      <th>1</th>\n",
       "      <td>30.286711</td>\n",
       "      <td>43.894998</td>\n",
       "      <td>0</td>\n",
       "    </tr>\n",
       "    <tr>\n",
       "      <th>2</th>\n",
       "      <td>35.847409</td>\n",
       "      <td>72.902198</td>\n",
       "      <td>0</td>\n",
       "    </tr>\n",
       "    <tr>\n",
       "      <th>3</th>\n",
       "      <td>60.182599</td>\n",
       "      <td>86.308552</td>\n",
       "      <td>1</td>\n",
       "    </tr>\n",
       "    <tr>\n",
       "      <th>4</th>\n",
       "      <td>79.032736</td>\n",
       "      <td>75.344376</td>\n",
       "      <td>1</td>\n",
       "    </tr>\n",
       "  </tbody>\n",
       "</table>\n",
       "</div>"
      ],
      "text/plain": [
       "           0          1  2\n",
       "0  34.623660  78.024693  0\n",
       "1  30.286711  43.894998  0\n",
       "2  35.847409  72.902198  0\n",
       "3  60.182599  86.308552  1\n",
       "4  79.032736  75.344376  1"
      ]
     },
     "execution_count": 2,
     "metadata": {},
     "output_type": "execute_result"
    }
   ],
   "source": [
    "# #################################################\n",
    "# FILL IN THE NECESSARY CODE.\n",
    "# Read the data from the file \"ex2data1.txt\" (available on Canvas) and display the top 5 rows of this data.\n",
    "# Display also the top rows of this file\n",
    "\n",
    "data = pd.read_csv('Data/ex2data1.txt', header = None)\n",
    "X = data.iloc[:, :-1]  # select every row, then every column but the last one\n",
    "y = data.iloc[:, -1]  # selec every row and the last column \n",
    "data.head()"
   ]
  },
  {
   "cell_type": "markdown",
   "metadata": {},
   "source": [
    "So we have two independent features and one dependent variable. Here 0 means candidate was unable to get an admission and 1 means our candidate got accepted."
   ]
  },
  {
   "cell_type": "markdown",
   "metadata": {},
   "source": [
    "## Visualizing the data\n",
    "Before starting to implement any learning algorithm, it is always good to visualize the data if possible."
   ]
  },
  {
   "cell_type": "code",
   "execution_count": 4,
   "metadata": {
    "ExecuteTime": {
     "end_time": "2021-10-07T09:22:37.798308Z",
     "start_time": "2021-10-07T09:22:37.786313Z"
    }
   },
   "outputs": [],
   "source": [
    "# #################################################\n",
    "# FILL IN THE NECESSARY CODE.\n",
    "# Create the mask variable:\n",
    "mask = y == 1  # defining a mask to identify the good chips"
   ]
  },
  {
   "cell_type": "code",
   "execution_count": 6,
   "metadata": {},
   "outputs": [
    {
     "data": {
      "text/plain": [
       "0     False\n",
       "1     False\n",
       "2     False\n",
       "3      True\n",
       "4      True\n",
       "      ...  \n",
       "95     True\n",
       "96     True\n",
       "97     True\n",
       "98     True\n",
       "99     True\n",
       "Name: 2, Length: 100, dtype: bool"
      ]
     },
     "execution_count": 6,
     "metadata": {},
     "output_type": "execute_result"
    }
   ],
   "source": [
    "mask"
   ]
  },
  {
   "cell_type": "code",
   "execution_count": 14,
   "metadata": {},
   "outputs": [
    {
     "data": {
      "text/plain": [
       "60"
      ]
     },
     "execution_count": 14,
     "metadata": {},
     "output_type": "execute_result"
    }
   ],
   "source": [
    "X[mask][1].values.size"
   ]
  },
  {
   "cell_type": "code",
   "execution_count": 16,
   "metadata": {
    "ExecuteTime": {
     "end_time": "2021-10-07T09:22:37.985305Z",
     "start_time": "2021-10-07T09:22:37.800314Z"
    }
   },
   "outputs": [
    {
     "data": {
      "image/png": "[encoded data removed]",
      "text/plain": [
       "<Figure size 640x480 with 1 Axes>"
      ]
     },
     "metadata": {},
     "output_type": "display_data"
    }
   ],
   "source": [
    "# #################################################\n",
    "# FILL IN THE NECESSARY CODE.\n",
    "# Create the 2 scatter plots.\n",
    "# One with the mask, identifying the good samples and one with the mask\n",
    "# identifying the bad samples (= Not good).\n",
    "# Keep all this code in 1 cell, as after each cell the output is drawn.\n",
    "adm = plt.scatter(X[mask][0].values, X[mask][1].values)\n",
    "not_adm = plt.scatter(X[~mask][0].values, X[~mask][1].values)\n",
    "\n",
    "# #################################################\n",
    "# FILL IN THE NECESSARY CODE.\n",
    "# Create the x and y labels for the chart.\n",
    "plt.xlabel('Exam 1 score')\n",
    "plt.ylabel('Exam 2 score')\n",
    "\n",
    "# #################################################\n",
    "# FILL IN THE NECESSARY CODE.\n",
    "# Add in a legend (as you have multiple scatterplots, you must provide a tupple of data points and a tupple of legend texts).\n",
    "# Also draw the plot.\n",
    "plt.legend((adm, not_adm), ('Admitted', 'Not admitted'))\n",
    "plt.show()"
   ]
  },
  {
   "cell_type": "markdown",
   "metadata": {},
   "source": [
    "Let's define our sigmoid function."
   ]
  },
  {
   "cell_type": "markdown",
   "metadata": {},
   "source": [
    "## Sigmoid Function\n"
   ]
  },
  {
   "cell_type": "code",
   "execution_count": 21,
   "metadata": {
    "ExecuteTime": {
     "end_time": "2021-10-07T09:22:38.000299Z",
     "start_time": "2021-10-07T09:22:37.987300Z"
    }
   },
   "outputs": [],
   "source": [
    "# #################################################\n",
    "# FILL IN THE NECESSARY CODE.\n",
    "\n",
    "def sigmoid(x):\n",
    "  return 1/(1+np.exp(-x))"
   ]
  },
  {
   "cell_type": "markdown",
   "metadata": {},
   "source": [
    "Please implement the vectorized code. \n",
    "\n",
    "In this way our sigmoid can handle a scalar, a vector or a matrix or a tensor ;-). Of course writing and understanding the vectorized code takes some mind bending (which anyone will become good at after some practice). \n",
    "\n",
    "However, it gets rid of any for loops and also makes for efficient and generalized code."
   ]
  },
  {
   "cell_type": "markdown",
   "metadata": {},
   "source": [
    "## Cost Function\n",
    "Let's implement the cost function for the Logistic Regression.\n"
   ]
  },
  {
   "cell_type": "code",
   "execution_count": 22,
   "metadata": {
    "ExecuteTime": {
     "end_time": "2021-10-07T09:22:38.015305Z",
     "start_time": "2021-10-07T09:22:38.002302Z"
    }
   },
   "outputs": [],
   "source": [
    "# #################################################\n",
    "# FILL IN THE NECESSARY CODE.\n",
    "# Implement the cross-entropy loss function.\n",
    "def costFunction(theta, X, y):\n",
    "    J = (-1/m) * np.sum(np.multiply(y, np.log(sigmoid(X @ theta))) \n",
    "        + np.multiply((1-y), np.log(1 - sigmoid(X @ theta))))  # @ stands for matrix multiplication\n",
    "    return J"
   ]
  },
  {
   "cell_type": "markdown",
   "metadata": {},
   "source": [
    "There are multiple ways to code cost function. Whats more important is the underlying mathematical \n",
    "ideas and our ability to translate them into code."
   ]
  },
  {
   "cell_type": "markdown",
   "metadata": {},
   "source": [
    "## Gradient Function"
   ]
  },
  {
   "cell_type": "code",
   "execution_count": 23,
   "metadata": {
    "ExecuteTime": {
     "end_time": "2021-10-07T09:22:38.031303Z",
     "start_time": "2021-10-07T09:22:38.017305Z"
    }
   },
   "outputs": [],
   "source": [
    "# #################################################\n",
    "# FILL IN THE NECESSARY CODE.\n",
    "# Implement the gradient function.\n",
    "def gradient(theta, X, y):\n",
    "   return ((1/m) * X.T @ (sigmoid(X @ theta) - y))"
   ]
  },
  {
   "cell_type": "markdown",
   "metadata": {},
   "source": [
    "Note that while this gradient looks identical to the linear regression gradient, the formula is \n",
    "actually different because linear and logistic regression have different definitions of \n",
    "hypothesis functions.\n",
    "\n",
    "Let's call these functions using the initial parameters."
   ]
  },
  {
   "cell_type": "code",
   "execution_count": 24,
   "metadata": {
    "ExecuteTime": {
     "end_time": "2021-10-07T09:22:38.047307Z",
     "start_time": "2021-10-07T09:22:38.033302Z"
    }
   },
   "outputs": [
    {
     "name": "stdout",
     "output_type": "stream",
     "text": [
      "0.6931471805599453\n"
     ]
    }
   ],
   "source": [
    "# #################################################\n",
    "# FILL IN THE NECESSARY CODE.\n",
    "# Complement the X matrix with 1's. Reuse the X variable.\n",
    "# Convert the labels into numpy arrays. Reuse the y variable.\n",
    "# Initialize the parameters theta.\n",
    "# Check your results for the cost function (J).\n",
    "\n",
    "(m, n) = X.shape\n",
    "X = np.hstack((np.ones((m,1)), X))\n",
    "y = y.to_numpy()[:, np.newaxis]\n",
    "theta = np.zeros((n+1,1)) # intializing theta with all zeros\n",
    "J = costFunction(theta, X, y)\n",
    "print(J)"
   ]
  },
  {
   "cell_type": "markdown",
   "metadata": {},
   "source": [
    "This should give us a value of 0.693 for J."
   ]
  },
  {
   "cell_type": "code",
   "execution_count": 25,
   "metadata": {
    "ExecuteTime": {
     "end_time": "2021-10-07T09:22:38.063305Z",
     "start_time": "2021-10-07T09:22:38.050300Z"
    }
   },
   "outputs": [],
   "source": [
    "# Learning parameters using fmin_tnc"
   ]
  },
  {
   "cell_type": "markdown",
   "metadata": {},
   "source": [
    "In the previous assignment, we found the optimal parameters of a linear regression model by implementing the gradient \n",
    "descent algorithm. We wrote a cost function and calculated its gradient, then took a gradient descent step accordingly. \n",
    "This time, instead of taking the gradient descent steps, we will use a built-in function fmin_tnc from scipy library.\n",
    "fmin_tnc is an optimization solver that finds the minimum of an unconstrained function. For logistic regression, you want \n",
    "to optimize the cost function with the parameters theta.\n",
    "\n",
    "Constraints in optimization often refer to constraints on the parameters. For example, constraints that bound the possible \n",
    "values theta can take (e.g., theta = 1). Logistic regression does not have such constraints since theta is allowed to take \n",
    "any real value.\n",
    "\n",
    "Concretely, you are going to use fmin_tnc to find the best or optimal parameters theta for the logistic regression cost \n",
    "function, given a fixed dataset (of X and y values). \n",
    "\n",
    "You will pass to fmin_tnc the following inputs:\n",
    "* func: the name of the function for which the cost needs to be minimized. \n",
    "* x0: The initial values of the parameters we are trying to optimize (requires a matrix format, not a vector). Mind that the name chosen - x0 - is not in line with the current naming used in this course (or in the ML world). \n",
    "* fprime: the derivative of the function. So this refers to the gradient with respect to theta.\n",
    "* args: These contain the arguments that the func and the fprime function will use. It contains the features and the labels.\n"
   ]
  },
  {
   "cell_type": "code",
   "execution_count": 26,
   "metadata": {
    "ExecuteTime": {
     "end_time": "2021-10-07T09:22:38.078300Z",
     "start_time": "2021-10-07T09:22:38.066306Z"
    }
   },
   "outputs": [
    {
     "name": "stdout",
     "output_type": "stream",
     "text": [
      "Help on function fmin_tnc in module scipy.optimize.tnc:\n",
      "\n",
      "fmin_tnc(func, x0, fprime=None, args=(), approx_grad=0, bounds=None, epsilon=1e-08, scale=None, offset=None, messages=15, maxCGit=-1, maxfun=None, eta=-1, stepmx=0, accuracy=0, fmin=0, ftol=-1, xtol=-1, pgtol=-1, rescale=-1, disp=None, callback=None)\n",
      "    Minimize a function with variables subject to bounds, using\n",
      "    gradient information in a truncated Newton algorithm. This\n",
      "    method wraps a C implementation of the algorithm.\n",
      "    \n",
      "    Parameters\n",
      "    ----------\n",
      "    func : callable ``func(x, *args)``\n",
      "        Function to minimize.  Must do one of:\n",
      "    \n",
      "        1. Return f and g, where f is the value of the function and g its\n",
      "           gradient (a list of floats).\n",
      "    \n",
      "        2. Return the function value but supply gradient function\n",
      "           separately as `fprime`.\n",
      "    \n",
      "        3. Return the function value and set ``approx_grad=True``.\n",
      "    \n",
      "        If the function returns None, the minimization\n",
      "        is aborted.\n",
      "    x0 : array_like\n",
      "        Initial estimate of minimum.\n",
      "    fprime : callable ``fprime(x, *args)``, optional\n",
      "        Gradient of `func`. If None, then either `func` must return the\n",
      "        function value and the gradient (``f,g = func(x, *args)``)\n",
      "        or `approx_grad` must be True.\n",
      "    args : tuple, optional\n",
      "        Arguments to pass to function.\n",
      "    approx_grad : bool, optional\n",
      "        If true, approximate the gradient numerically.\n",
      "    bounds : list, optional\n",
      "        (min, max) pairs for each element in x0, defining the\n",
      "        bounds on that parameter. Use None or +/-inf for one of\n",
      "        min or max when there is no bound in that direction.\n",
      "    epsilon : float, optional\n",
      "        Used if approx_grad is True. The stepsize in a finite\n",
      "        difference approximation for fprime.\n",
      "    scale : array_like, optional\n",
      "        Scaling factors to apply to each variable. If None, the\n",
      "        factors are up-low for interval bounded variables and\n",
      "        1+|x| for the others. Defaults to None.\n",
      "    offset : array_like, optional\n",
      "        Value to subtract from each variable. If None, the\n",
      "        offsets are (up+low)/2 for interval bounded variables\n",
      "        and x for the others.\n",
      "    messages : int, optional\n",
      "        Bit mask used to select messages display during\n",
      "        minimization values defined in the MSGS dict. Defaults to\n",
      "        MGS_ALL.\n",
      "    disp : int, optional\n",
      "        Integer interface to messages. 0 = no message, 5 = all messages\n",
      "    maxCGit : int, optional\n",
      "        Maximum number of hessian*vector evaluations per main\n",
      "        iteration. If maxCGit == 0, the direction chosen is\n",
      "        -gradient if maxCGit < 0, maxCGit is set to\n",
      "        max(1,min(50,n/2)). Defaults to -1.\n",
      "    maxfun : int, optional\n",
      "        Maximum number of function evaluation. If None, maxfun is\n",
      "        set to max(100, 10*len(x0)). Defaults to None.\n",
      "    eta : float, optional\n",
      "        Severity of the line search. If < 0 or > 1, set to 0.25.\n",
      "        Defaults to -1.\n",
      "    stepmx : float, optional\n",
      "        Maximum step for the line search. May be increased during\n",
      "        call. If too small, it will be set to 10.0. Defaults to 0.\n",
      "    accuracy : float, optional\n",
      "        Relative precision for finite difference calculations. If\n",
      "        <= machine_precision, set to sqrt(machine_precision).\n",
      "        Defaults to 0.\n",
      "    fmin : float, optional\n",
      "        Minimum function value estimate. Defaults to 0.\n",
      "    ftol : float, optional\n",
      "        Precision goal for the value of f in the stopping criterion.\n",
      "        If ftol < 0.0, ftol is set to 0.0 defaults to -1.\n",
      "    xtol : float, optional\n",
      "        Precision goal for the value of x in the stopping\n",
      "        criterion (after applying x scaling factors). If xtol <\n",
      "        0.0, xtol is set to sqrt(machine_precision). Defaults to\n",
      "        -1.\n",
      "    pgtol : float, optional\n",
      "        Precision goal for the value of the projected gradient in\n",
      "        the stopping criterion (after applying x scaling factors).\n",
      "        If pgtol < 0.0, pgtol is set to 1e-2 * sqrt(accuracy).\n",
      "        Setting it to 0.0 is not recommended. Defaults to -1.\n",
      "    rescale : float, optional\n",
      "        Scaling factor (in log10) used to trigger f value\n",
      "        rescaling. If 0, rescale at each iteration. If a large\n",
      "        value, never rescale. If < 0, rescale is set to 1.3.\n",
      "    callback : callable, optional\n",
      "        Called after each iteration, as callback(xk), where xk is the\n",
      "        current parameter vector.\n",
      "    \n",
      "    Returns\n",
      "    -------\n",
      "    x : ndarray\n",
      "        The solution.\n",
      "    nfeval : int\n",
      "        The number of function evaluations.\n",
      "    rc : int\n",
      "        Return code, see below\n",
      "    \n",
      "    See also\n",
      "    --------\n",
      "    minimize: Interface to minimization algorithms for multivariate\n",
      "        functions. See the 'TNC' `method` in particular.\n",
      "    \n",
      "    Notes\n",
      "    -----\n",
      "    The underlying algorithm is truncated Newton, also called\n",
      "    Newton Conjugate-Gradient. This method differs from\n",
      "    scipy.optimize.fmin_ncg in that\n",
      "    \n",
      "    1. it wraps a C implementation of the algorithm\n",
      "    2. it allows each variable to be given an upper and lower bound.\n",
      "    \n",
      "    The algorithm incorporates the bound constraints by determining\n",
      "    the descent direction as in an unconstrained truncated Newton,\n",
      "    but never taking a step-size large enough to leave the space\n",
      "    of feasible x's. The algorithm keeps track of a set of\n",
      "    currently active constraints, and ignores them when computing\n",
      "    the minimum allowable step size. (The x's associated with the\n",
      "    active constraint are kept fixed.) If the maximum allowable\n",
      "    step size is zero then a new constraint is added. At the end\n",
      "    of each iteration one of the constraints may be deemed no\n",
      "    longer active and removed. A constraint is considered\n",
      "    no longer active is if it is currently active\n",
      "    but the gradient for that variable points inward from the\n",
      "    constraint. The specific constraint removed is the one\n",
      "    associated with the variable of largest index whose\n",
      "    constraint is no longer active.\n",
      "    \n",
      "    Return codes are defined as follows::\n",
      "    \n",
      "        -1 : Infeasible (lower bound > upper bound)\n",
      "         0 : Local minimum reached (|pg| ~= 0)\n",
      "         1 : Converged (|f_n-f_(n-1)| ~= 0)\n",
      "         2 : Converged (|x_n-x_(n-1)| ~= 0)\n",
      "         3 : Max. number of function evaluations reached\n",
      "         4 : Linear search failed\n",
      "         5 : All lower bounds are equal to the upper bounds\n",
      "         6 : Unable to progress\n",
      "         7 : User requested end of minimization\n",
      "    \n",
      "    References\n",
      "    ----------\n",
      "    Wright S., Nocedal J. (2006), 'Numerical Optimization'\n",
      "    \n",
      "    Nash S.G. (1984), \"Newton-Type Minimization Via the Lanczos Method\",\n",
      "    SIAM Journal of Numerical Analysis 21, pp. 770-778\n",
      "\n"
     ]
    }
   ],
   "source": [
    "help(opt.fmin_tnc)"
   ]
  },
  {
   "cell_type": "code",
   "execution_count": 27,
   "metadata": {
    "ExecuteTime": {
     "end_time": "2021-10-07T09:22:38.110300Z",
     "start_time": "2021-10-07T09:22:38.080304Z"
    }
   },
   "outputs": [],
   "source": [
    "# #################################################\n",
    "# FILL IN THE NECESSARY CODE.\n",
    "# Call opt.fmin_tnc with the necessary parameters. \n",
    "temp = opt.fmin_tnc(func = costFunction, \n",
    "                    x0 = theta.flatten(),fprime = gradient, \n",
    "                    args = (X, y.flatten()))"
   ]
  },
  {
   "cell_type": "markdown",
   "metadata": {
    "ExecuteTime": {
     "end_time": "2021-10-06T21:22:19.394521Z",
     "start_time": "2021-10-06T21:22:19.389527Z"
    }
   },
   "source": [
    "Note on flatten() function: Unfortunately scipy's fmin_tnc doesn't work well with column or row vector. \n",
    "\n",
    "It expects the parameters to be in an array format. The flatten() function reduces a column or row vector into an array format.\n",
    "\n",
    "The output of above function is a tuple whose first element contains the optimized values of theta"
   ]
  },
  {
   "cell_type": "code",
   "execution_count": 28,
   "metadata": {
    "ExecuteTime": {
     "end_time": "2021-10-07T09:22:38.126302Z",
     "start_time": "2021-10-07T09:22:38.112304Z"
    }
   },
   "outputs": [
    {
     "name": "stdout",
     "output_type": "stream",
     "text": [
      "[-25.1613187    0.20623159   0.20147149]\n"
     ]
    }
   ],
   "source": [
    "# #################################################\n",
    "# FILL IN THE NECESSARY CODE.\n",
    "# Extract the optimized theta values from the result of the calculation. \n",
    "theta_optimized = temp[0]\n",
    "print(theta_optimized)"
   ]
  },
  {
   "cell_type": "markdown",
   "metadata": {},
   "source": [
    "The above code should give [-25.16131862, 0.20623159, 0.20147149].\n",
    "\n",
    "If you have completed the costFunction correctly, fmin_tnc will converge on the right optimization parameters and return \n",
    "the final values of theta. Notice that by using fmin_tnc, you did not have to write any loops yourself, or set a learning \n",
    "rate like you did for gradient descent. This is all done by fmin_tnc:-) You only needed to provide a function for calculating \n",
    "the cost and the gradient.\n",
    "\n",
    "Let's use these optimized theta values to calculate the cost."
   ]
  },
  {
   "cell_type": "code",
   "execution_count": 29,
   "metadata": {
    "ExecuteTime": {
     "end_time": "2021-10-07T09:22:38.142298Z",
     "start_time": "2021-10-07T09:22:38.128300Z"
    }
   },
   "outputs": [
    {
     "name": "stdout",
     "output_type": "stream",
     "text": [
      "Cost: 0.2034977015894743\n"
     ]
    }
   ],
   "source": [
    "# #################################################\n",
    "# FILL IN THE NECESSARY CODE.\n",
    "# Call the cost function again and verify your results.\n",
    "J = costFunction(theta_optimized[:,np.newaxis], X, y)\n",
    "print('Cost:',J)"
   ]
  },
  {
   "cell_type": "markdown",
   "metadata": {},
   "source": [
    "You should see a value of 0.203 . Compare this with the cost 0.693 obtained using the initial theta."
   ]
  },
  {
   "cell_type": "markdown",
   "metadata": {},
   "source": [
    "## Plotting Decision Boundary (Optional)\n",
    "Let's superinmpose our findings (the linear boundary) on the dataset we drew above.\n",
    "\n",
    "So make a copy of your scatterplot code for the admissioned and non-admissioned data.\n",
    "\n",
    "As we have a linear boundary and as a line is determined by 2 points, determine a good start- and end-point for x.\n"
   ]
  },
  {
   "cell_type": "code",
   "execution_count": 30,
   "metadata": {
    "ExecuteTime": {
     "end_time": "2021-10-07T09:22:38.158299Z",
     "start_time": "2021-10-07T09:22:38.144300Z"
    }
   },
   "outputs": [
    {
     "name": "stdout",
     "output_type": "stream",
     "text": [
      "slope:  -1.0236266803084346\n",
      "y-intercept:  124.88774021500586\n"
     ]
    }
   ],
   "source": [
    "# #################################################\n",
    "# FILL IN THE NECESSARY CODE.\n",
    "# We will need to draw a line on our scatter plot.\n",
    "# 1. Find a good range for the x parameter. \n",
    "# 2. We need a minimum value for x and a maximum value for x (use the variable plot_x).\n",
    "plot_x = [np.min(X[:,1]-2), np.max(X[:,2]+2)]\n",
    "\n",
    "# 3. The y intercept and slope calculation is given, based on the optimized theta.\n",
    "y_int = -theta_optimized[0]/theta_optimized[2]\n",
    "slope = -theta_optimized[1]/theta_optimized[2]\n",
    "\n",
    "print('slope: ', slope)\n",
    "print('y-intercept: ', y_int)"
   ]
  },
  {
   "cell_type": "markdown",
   "metadata": {
    "ExecuteTime": {
     "end_time": "2021-10-07T09:00:50.310744Z",
     "start_time": "2021-10-07T09:00:50.087562Z"
    }
   },
   "source": [
    "Your results should be:\n",
    "\n",
    "slope:  -1.0236266803084346\n",
    "\n",
    "y-intercept:  124.88774021500586"
   ]
  },
  {
   "cell_type": "code",
   "execution_count": 31,
   "metadata": {
    "ExecuteTime": {
     "end_time": "2021-10-07T09:22:38.330328Z",
     "start_time": "2021-10-07T09:22:38.159301Z"
    }
   },
   "outputs": [
    {
     "data": {
      "image/png": "[encoded data removed]",
      "text/plain": [
       "<Figure size 432x288 with 1 Axes>"
      ]
     },
     "metadata": {
      "needs_background": "light"
     },
     "output_type": "display_data"
    }
   ],
   "source": [
    "# #################################################\n",
    "# FILL IN THE NECESSARY CODE.\n",
    "# 4. Calculate, using the optimized theta values, the corresponding values for our line (variable plot_y).\n",
    "plot_y = (y_int + np.dot(slope,plot_x))  \n",
    "\n",
    "# 5. plot the line\n",
    "decision_boun = plt.plot(plot_x, plot_y)\n",
    "\n",
    "# 6. Copy your scatterplot drawing code here to\n",
    "#    Mind that we augmented our X-matrix with 1's.\n",
    "mask = y.flatten() == 1\n",
    "adm = plt.scatter(X[mask][:,1], X[mask][:,2])\n",
    "not_adm = plt.scatter(X[~mask][:,1], X[~mask][:,2])\n",
    "plt.xlabel('Exam 1 score')\n",
    "plt.ylabel('Exam 2 score')\n",
    "plt.legend((adm, not_adm), ('Admitted', 'Not admitted'))\n",
    "plt.show()"
   ]
  },
  {
   "cell_type": "code",
   "execution_count": 32,
   "metadata": {
    "ExecuteTime": {
     "end_time": "2021-10-07T09:22:38.346304Z",
     "start_time": "2021-10-07T09:22:38.332303Z"
    }
   },
   "outputs": [
    {
     "data": {
      "text/plain": [
       "89.0"
      ]
     },
     "execution_count": 32,
     "metadata": {},
     "output_type": "execute_result"
    }
   ],
   "source": [
    "# #################################################\n",
    "# FILL IN THE NECESSARY CODE.\n",
    "# Determine the accuracy of the separation (how many were classified correctly based on the final result (=adimtted or not))\n",
    "#   cutoff: parameter will determine from which value (sigmoid output, so between 0 and 1), \n",
    "#           whichwe will classify someone as admitted or not.\n",
    "# Returns a number between 0 and 100\n",
    "\n",
    "def accuracy(X, y, theta, cutoff):\n",
    "    pred = [sigmoid(np.dot(X, theta)) >= cutoff]\n",
    "    acc = np.mean(pred == y)\n",
    "    return(acc * 100)\n",
    "\n",
    "accuracy(X, y.flatten(), theta_optimized, 0.5)"
   ]
  },
  {
   "cell_type": "markdown",
   "metadata": {},
   "source": [
    "This should give us an accuracy score of 89%.\n",
    "You now have learnt how to perform Logistic Regression. Well done!\n",
    "You can find the next post in this series here."
   ]
  }
 ],
 "metadata": {
  "kernelspec": {
   "display_name": "Python 3 (ipykernel)",
   "language": "python",
   "name": "python3"
  },
  "language_info": {
   "codemirror_mode": {
    "name": "ipython",
    "version": 3
   },
   "file_extension": ".py",
   "mimetype": "text/x-python",
   "name": "python",
   "nbconvert_exporter": "python",
   "pygments_lexer": "ipython3",
   "version": "3.10.6"
  },
  "toc": {
   "base_numbering": 1,
   "nav_menu": {},
   "number_sections": true,
   "sideBar": true,
   "skip_h1_title": false,
   "title_cell": "Table of Contents",
   "title_sidebar": "Contents",
   "toc_cell": false,
   "toc_position": {},
   "toc_section_display": true,
   "toc_window_display": false
  },
  "vscode": {
   "interpreter": {
    "hash": "4255e110987a63ee7a9d314fdc800ac67e12ef6e0140d61312013f810513ee6f"
   }
  }
 },
 "nbformat": 4,
 "nbformat_minor": 4
}
