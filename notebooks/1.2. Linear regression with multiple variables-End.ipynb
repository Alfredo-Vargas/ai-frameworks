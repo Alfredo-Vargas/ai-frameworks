{
 "cells": [
  {
   "cell_type": "markdown",
   "id": "60d9fd5f",
   "metadata": {},
   "source": [
    "# Linear regression with multiple features/variables\n",
    "Let's extend the idea of linear regression to work with multiple independent variables (Multivariate Linear Regression).\n",
    "\n",
    "## Problem context:\n",
    "We want to sell houses and based on some characteristics you want to know what a good market price would be.\n",
    "We have gathered information on the recent houses that were sold in the area.\n",
    "\n",
    "It is your job to predict housing prices based on these features.\n",
    "\n",
    "The file ex1data2.txt contains a training set of housing prices in Portland, Oregon.\n",
    "\n",
    "The data is organized as\n",
    "- 1st column : size of the house (in square feet),\n",
    "- 2nd column is the number of bedrooms,\n",
    "- 3rd column is the price of the house.\n",
    "\n",
    "The only difference with the previous example is that we now have more than one independent variables (but the concepts you have learnt in the previous section applies here as well)."
   ]
  },
  {
   "cell_type": "code",
   "execution_count": 42,
   "id": "59fd042f",
   "metadata": {
    "ExecuteTime": {
     "end_time": "2022-10-05T10:47:00.788666Z",
     "start_time": "2022-10-05T10:47:00.771674Z"
    }
   },
   "outputs": [],
   "source": [
    "# #################################################\n",
    "# FILL IN THE NECESSARY CODE.\n",
    "# Import the necessary packages\n",
    "# ps: We need to be able to manipulate dataframes and perform matrix calculation\n",
    "import numpy as np\n",
    "import pandas as pd"
   ]
  },
  {
   "cell_type": "code",
   "execution_count": 43,
   "id": "7d2e4808",
   "metadata": {
    "ExecuteTime": {
     "end_time": "2022-10-05T10:47:00.818664Z",
     "start_time": "2022-10-05T10:47:00.791669Z"
    }
   },
   "outputs": [
    {
     "data": {
      "text/html": [
       "<div>\n",
       "<style scoped>\n",
       "    .dataframe tbody tr th:only-of-type {\n",
       "        vertical-align: middle;\n",
       "    }\n",
       "\n",
       "    .dataframe tbody tr th {\n",
       "        vertical-align: top;\n",
       "    }\n",
       "\n",
       "    .dataframe thead th {\n",
       "        text-align: right;\n",
       "    }\n",
       "</style>\n",
       "<table border=\"1\" class=\"dataframe\">\n",
       "  <thead>\n",
       "    <tr style=\"text-align: right;\">\n",
       "      <th></th>\n",
       "      <th>0</th>\n",
       "      <th>1</th>\n",
       "      <th>2</th>\n",
       "    </tr>\n",
       "  </thead>\n",
       "  <tbody>\n",
       "    <tr>\n",
       "      <th>0</th>\n",
       "      <td>2104</td>\n",
       "      <td>3</td>\n",
       "      <td>399900</td>\n",
       "    </tr>\n",
       "    <tr>\n",
       "      <th>1</th>\n",
       "      <td>1600</td>\n",
       "      <td>3</td>\n",
       "      <td>329900</td>\n",
       "    </tr>\n",
       "    <tr>\n",
       "      <th>2</th>\n",
       "      <td>2400</td>\n",
       "      <td>3</td>\n",
       "      <td>369000</td>\n",
       "    </tr>\n",
       "    <tr>\n",
       "      <th>3</th>\n",
       "      <td>1416</td>\n",
       "      <td>2</td>\n",
       "      <td>232000</td>\n",
       "    </tr>\n",
       "    <tr>\n",
       "      <th>4</th>\n",
       "      <td>3000</td>\n",
       "      <td>4</td>\n",
       "      <td>539900</td>\n",
       "    </tr>\n",
       "  </tbody>\n",
       "</table>\n",
       "</div>"
      ],
      "text/plain": [
       "      0  1       2\n",
       "0  2104  3  399900\n",
       "1  1600  3  329900\n",
       "2  2400  3  369000\n",
       "3  1416  2  232000\n",
       "4  3000  4  539900"
      ]
     },
     "execution_count": 43,
     "metadata": {},
     "output_type": "execute_result"
    }
   ],
   "source": [
    "# #################################################\n",
    "# FILL IN THE NECESSARY CODE.\n",
    "# Read the data from the file \"ex1data2.txt\" (available on Canvas) and display the top 5 rows of this data.\n",
    "data = pd.read_csv('Data/ex1data2.txt', header=None, delimiter=',')\n",
    "data.head()"
   ]
  },
  {
   "cell_type": "markdown",
   "id": "45d4e413",
   "metadata": {
    "ExecuteTime": {
     "end_time": "2021-09-29T09:14:49.756873Z",
     "start_time": "2021-09-29T09:14:49.742872Z"
    }
   },
   "source": [
    "Fill in the following. Make sure that we have numpy arrays to continue our calculations"
   ]
  },
  {
   "cell_type": "code",
   "execution_count": 44,
   "id": "1b78b277",
   "metadata": {
    "ExecuteTime": {
     "end_time": "2022-10-05T10:47:00.834669Z",
     "start_time": "2022-10-05T10:47:00.821674Z"
    },
    "scrolled": true
   },
   "outputs": [],
   "source": [
    "# #################################################\n",
    "# FILL IN THE NECESSARY CODE.\n",
    "# We need\n",
    "#       X to hold all the features\n",
    "#       y to hold the labels\n",
    "#       m to hold the number of samples\n",
    "\n",
    "X = data.iloc[:, 0:2].to_numpy()  # read first two columns into X\n",
    "# X = data.iloc[:, 0:-1].to_numpy()  # read first two columns into X\n",
    "\n",
    "y = data.iloc[:, -1].to_numpy()  # read the third/last column into y\n",
    "# X = X.to_numpy() #[:,np.newaxis] # convert to numpy array\n",
    "# y = y.to_numpy() #[:,np.newaxis] # convert to numpy array\n",
    "m = len(y)  # no. of training samples\n"
   ]
  },
  {
   "cell_type": "markdown",
   "id": "2b959f27",
   "metadata": {},
   "source": [
    "## Feature Normalization\n",
    "Looking at the data, the house sizes are about 1000 times the number of bedrooms. \n",
    "So the house size is orders of magnitude larger, so the best is to \"scale the features\" or \"normalize\", \n",
    "this will have as benefit that gradient descent converge much more quickly.\n",
    "\n",
    "We will\n",
    "  - calculate the mean of each of the features (Xo, X1)\n",
    "  - subtract the mean value of each feature from the dataset.\n",
    "  - divide each feature values by their respective standard deviations"
   ]
  },
  {
   "cell_type": "code",
   "execution_count": 45,
   "id": "b031c885",
   "metadata": {
    "ExecuteTime": {
     "end_time": "2022-10-05T10:47:00.850670Z",
     "start_time": "2022-10-05T10:47:00.837665Z"
    },
    "scrolled": true
   },
   "outputs": [
    {
     "name": "stdout",
     "output_type": "stream",
     "text": [
      "X_mean: \n",
      " [2000.68085106    3.17021277]\n",
      "X_norm: \n",
      " [[ 1.31415422e-01 -2.26093368e-01]\n",
      " [-5.09640698e-01 -2.26093368e-01]\n",
      " [ 5.07908699e-01 -2.26093368e-01]\n",
      " [-7.43677059e-01 -1.55439190e+00]\n",
      " [ 1.27107075e+00  1.10220517e+00]\n",
      " [-1.99450507e-02  1.10220517e+00]\n",
      " [-5.93588523e-01 -2.26093368e-01]\n",
      " [-7.29685755e-01 -2.26093368e-01]\n",
      " [-7.89466782e-01 -2.26093368e-01]\n",
      " [-6.44465993e-01 -2.26093368e-01]\n",
      " [-7.71822042e-02  1.10220517e+00]\n",
      " [-8.65999486e-04 -2.26093368e-01]\n",
      " [-1.40779041e-01 -2.26093368e-01]\n",
      " [ 3.15099326e+00  2.43050370e+00]\n",
      " [-9.31923697e-01 -2.26093368e-01]\n",
      " [ 3.80715024e-01  1.10220517e+00]\n",
      " [-8.65782986e-01 -1.55439190e+00]\n",
      " [-9.72625673e-01 -2.26093368e-01]\n",
      " [ 7.73743478e-01  1.10220517e+00]\n",
      " [ 1.31050078e+00  1.10220517e+00]\n",
      " [-2.97227261e-01 -2.26093368e-01]\n",
      " [-1.43322915e-01 -1.55439190e+00]\n",
      " [-5.04552951e-01 -2.26093368e-01]\n",
      " [-4.91995958e-02  1.10220517e+00]\n",
      " [ 2.40309445e+00 -2.26093368e-01]\n",
      " [-1.14560907e+00 -2.26093368e-01]\n",
      " [-6.90255715e-01 -2.26093368e-01]\n",
      " [ 6.68172729e-01 -2.26093368e-01]\n",
      " [ 2.53521350e-01 -2.26093368e-01]\n",
      " [ 8.09357707e-01 -2.26093368e-01]\n",
      " [-2.05647815e-01 -1.55439190e+00]\n",
      " [-1.27280274e+00 -2.88269044e+00]\n",
      " [ 5.00114703e-02  1.10220517e+00]\n",
      " [ 1.44532608e+00 -2.26093368e-01]\n",
      " [-2.41262044e-01  1.10220517e+00]\n",
      " [-7.16966387e-01 -2.26093368e-01]\n",
      " [-9.68809863e-01 -2.26093368e-01]\n",
      " [ 1.67029651e-01  1.10220517e+00]\n",
      " [ 2.81647389e+00  1.10220517e+00]\n",
      " [ 2.05187753e-01  1.10220517e+00]\n",
      " [-4.28236746e-01 -1.55439190e+00]\n",
      " [ 3.01854946e-01 -2.26093368e-01]\n",
      " [ 7.20322135e-01  1.10220517e+00]\n",
      " [-1.01841540e+00 -2.26093368e-01]\n",
      " [-1.46104938e+00 -1.55439190e+00]\n",
      " [-1.89112638e-01  1.10220517e+00]\n",
      " [-1.01459959e+00 -2.26093368e-01]]\n"
     ]
    }
   ],
   "source": [
    "# #################################################\n",
    "# FILL IN THE NECESSARY CODE.\n",
    "# Normalize X\n",
    "# Should we normalize y?\n",
    "# Convert X into the variable X_norm\n",
    "# Print out both the mean of X and the normalized output \n",
    "X_std = np.std(X, axis=0)\n",
    "X_mean = np.mean(X,axis=0)\n",
    "print('X_mean: \\n', X_mean)\n",
    "X_norm = (X - X_mean) / X_std\n",
    "print('X_norm: \\n', X_norm)"
   ]
  },
  {
   "cell_type": "markdown",
   "id": "41ab5408",
   "metadata": {},
   "source": [
    "Adding the intercept term and initializing parameters"
   ]
  },
  {
   "cell_type": "code",
   "execution_count": 46,
   "id": "ddf15c49",
   "metadata": {
    "ExecuteTime": {
     "end_time": "2022-10-05T10:47:00.866669Z",
     "start_time": "2022-10-05T10:47:00.853675Z"
    }
   },
   "outputs": [],
   "source": [
    "# #################################################\n",
    "# FILL IN THE NECESSARY CODE.\n",
    "# Augment the matrix X so that we can perform a X*theta in 1 go.\n",
    "# Convert X_norm into the variable X_aug\n",
    "# So include the possibility to multiply X*theta in 1 go, including theta0 (the intercept).\n",
    "\n",
    "ones = np.ones((m, 1))\n",
    "X_aug = np.hstack((ones, X_norm))  # add 1 column for x0 and convert to numpy array"
   ]
  },
  {
   "cell_type": "code",
   "execution_count": 47,
   "id": "bcd2463c",
   "metadata": {
    "ExecuteTime": {
     "end_time": "2022-10-05T10:47:00.882663Z",
     "start_time": "2022-10-05T10:47:00.869676Z"
    }
   },
   "outputs": [],
   "source": [
    "# #################################################\n",
    "# FILL IN THE NECESSARY CODE.\n",
    "# Initialize all the hyperparameters of our model\n",
    "alpha = 0.03\n",
    "num_iters = 100\n",
    "theta = np.zeros((3, 1))\n",
    "y = y[:,np.newaxis] # convert to numpy array"
   ]
  },
  {
   "cell_type": "markdown",
   "id": "eb551724",
   "metadata": {},
   "source": [
    "Computing the cost"
   ]
  },
  {
   "cell_type": "code",
   "execution_count": 48,
   "id": "ca6c07bb",
   "metadata": {
    "ExecuteTime": {
     "end_time": "2022-10-05T10:47:00.898659Z",
     "start_time": "2022-10-05T10:47:00.885668Z"
    }
   },
   "outputs": [],
   "source": [
    "# #################################################\n",
    "# FILL IN THE NECESSARY CODE.\n",
    "# Calculate the MSE.\n",
    "def computeCostMulti(X, y, theta):\n",
    "    temp = np.dot(X, theta) - y\n",
    "    return np.sum(np.power(temp, 2)) / (2 * m)"
   ]
  },
  {
   "cell_type": "code",
   "execution_count": 49,
   "id": "64c9c862",
   "metadata": {
    "ExecuteTime": {
     "end_time": "2022-10-05T10:47:00.913665Z",
     "start_time": "2022-10-05T10:47:00.903665Z"
    }
   },
   "outputs": [
    {
     "name": "stdout",
     "output_type": "stream",
     "text": [
      "65591548106.45744\n"
     ]
    }
   ],
   "source": [
    "J = computeCostMulti(X_aug, y, theta)\n",
    "print(J) "
   ]
  },
  {
   "cell_type": "markdown",
   "id": "4147581f",
   "metadata": {
    "ExecuteTime": {
     "end_time": "2021-09-29T11:13:18.136322Z",
     "start_time": "2021-09-29T11:13:18.122315Z"
    }
   },
   "source": [
    "<b>Check your calculation with default initialization</b>\n",
    "\n",
    "Cost :  65591548106.45744"
   ]
  },
  {
   "cell_type": "markdown",
   "id": "4d44e012",
   "metadata": {
    "ExecuteTime": {
     "end_time": "2021-09-29T09:51:05.865384Z",
     "start_time": "2021-09-29T09:51:05.819362Z"
    }
   },
   "source": [
    "## Finding the optimal parameters using Gradient Descent"
   ]
  },
  {
   "cell_type": "code",
   "execution_count": 50,
   "id": "fedbb049",
   "metadata": {
    "ExecuteTime": {
     "end_time": "2022-10-05T10:47:00.929666Z",
     "start_time": "2022-10-05T10:47:00.918676Z"
    },
    "code_folding": []
   },
   "outputs": [],
   "source": [
    "# #################################################\n",
    "# FILL IN THE NECESSARY CODE.\n",
    "#    X contains the multivaraite input (all samples)\n",
    "#    y contain the labels\n",
    "#    alpha : the learning rate\n",
    "#    num_iters : number of iterations\n",
    "#    return parameter (theta) : parameters list of our linear model\n",
    "def gradientDescentMulti(X, y, theta, alpha, iterations):\n",
    "    m = len(y)\n",
    "    for _ in range(iterations):\n",
    "        temp = np.dot(X, theta) - y\n",
    "        temp = np.dot(X.T, temp)\n",
    "        theta = theta - (alpha / m) * temp\n",
    "    return theta"
   ]
  },
  {
   "cell_type": "code",
   "execution_count": 51,
   "id": "ac2b9c4f",
   "metadata": {
    "ExecuteTime": {
     "end_time": "2022-10-05T10:47:00.945688Z",
     "start_time": "2022-10-05T10:47:00.935661Z"
    },
    "code_folding": []
   },
   "outputs": [
    {
     "name": "stdout",
     "output_type": "stream",
     "text": [
      "[[339642.90450832]\n",
      " [105377.32631522]\n",
      " [ -2514.95084841]]\n"
     ]
    }
   ],
   "source": [
    "theta = gradientDescentMulti(X_aug, y, theta, alpha, num_iters)\n",
    "print(theta)"
   ]
  },
  {
   "cell_type": "markdown",
   "id": "4f966f3b",
   "metadata": {},
   "source": [
    "<pre>\n",
    "(results with alpha = 0.03)\n",
    "   \n",
    "Theta with    100 iterations : [[3.24225184e+05]  [1.16949487e+05]  [5.37867886e+01]]\n",
    "Theta with    200 iterations : [[3.39642905e+05]  [1.44952956e+05]  [5.98800848e+01]]\n",
    "Theta with    400 iterations : [[3.40410919e+05]  [1.53263978e+05]  [4.64918053e+01]]\n",
    "Theta with   1000 iterations : [[3.40412660e+05]  [1.53769414e+05]  [-6.77111420e+00]]\n",
    "Theta with   5000 iterations : [[340412.65957447] [153769.70114155] [-363.65654995]]\n",
    "Theta with  10000 iterations : [[340412.65957447] [153769.94033767] [-809.74547603]]\n",
    "</pre>\n",
    "We now have the optimized value of theta. Use these values in the above cost function."
   ]
  },
  {
   "cell_type": "code",
   "execution_count": 52,
   "id": "572916e1",
   "metadata": {
    "ExecuteTime": {
     "end_time": "2022-10-05T10:47:03.079699Z",
     "start_time": "2022-10-05T10:47:03.071676Z"
    }
   },
   "outputs": [
    {
     "name": "stdout",
     "output_type": "stream",
     "text": [
      "2050854463.919625\n"
     ]
    }
   ],
   "source": [
    "J = computeCostMulti(X_aug, y, theta)\n",
    "print(J)"
   ]
  },
  {
   "cell_type": "markdown",
   "id": "6f88e38b",
   "metadata": {
    "ExecuteTime": {
     "end_time": "2021-09-29T11:13:18.294273Z",
     "start_time": "2021-09-29T11:13:18.279275Z"
    }
   },
   "source": [
    "<b>Check your calculation with optimized theta's (learning rate 0.01)</b>\n"
   ]
  },
  {
   "cell_type": "markdown",
   "id": "9710e965",
   "metadata": {},
   "source": [
    "<pre>\n",
    "Cost with    100 iterations :   11987463482.983088\n",
    "Cost with    200 iterations :   3937401740.3302574\n",
    "Cost with    400 iterations :   2202721589.853654\n",
    "Cost with   1000 iterations :   2058558366.0358064\n",
    "Cost with   5000 iterations :   2058132543.3909454\n",
    "Cost with  10000 iterations :   2058132101.1394727\n",
    "</pre>"
   ]
  },
  {
   "cell_type": "markdown",
   "id": "7d6ecbc7",
   "metadata": {},
   "source": [
    "## Inference step\n",
    "What would be the price for a 2480 square foot, 3 bedroom house?\n",
    "\n",
    "How confident are you about this prediction?"
   ]
  },
  {
   "cell_type": "code",
   "execution_count": 54,
   "id": "c8424b25",
   "metadata": {
    "ExecuteTime": {
     "end_time": "2022-10-05T10:47:58.971595Z",
     "start_time": "2022-10-05T10:47:58.958598Z"
    }
   },
   "outputs": [
    {
     "name": "stdout",
     "output_type": "stream",
     "text": [
      "[404456.24236419]\n"
     ]
    }
   ],
   "source": [
    "# #################################################\n",
    "# FILL IN THE NECESSARY CODE.\n",
    "# There is a reasanable amount of information available for houses this size. Confidence is high. \n",
    "# So confidence level for this one will be lower.\n",
    "\n",
    "X_pred = [2480, 3]\n",
    "X_pred_norm = (X_pred - X_mean) / X_std\n",
    "X_pred_aug= np.hstack((1, X_pred_norm))\n",
    "y_pred = np.dot(X_pred_aug, theta)\n",
    "print (y_pred)"
   ]
  },
  {
   "cell_type": "markdown",
   "id": "d9534110",
   "metadata": {},
   "source": [
    "What would be the price for a 5500 square foot, 6 bedroom house?\n",
    "\n",
    "How confident are you about this prediction?\n"
   ]
  },
  {
   "cell_type": "code",
   "execution_count": 55,
   "id": "2b2fda9f",
   "metadata": {
    "ExecuteTime": {
     "end_time": "2022-10-05T10:48:00.596105Z",
     "start_time": "2022-10-05T10:48:00.577115Z"
    }
   },
   "outputs": [
    {
     "name": "stdout",
     "output_type": "stream",
     "text": [
      "[799214.97202752]\n"
     ]
    }
   ],
   "source": [
    "# #################################################\n",
    "# FILL IN THE NECESSARY CODE.\n",
    "# There is only a limited amount of information available for house this size, and with 6 bedrooms. \n",
    "# So confidence level for this one will be lower.\n",
    "X_pred = [5500, 6]\n",
    "X_pred_norm = (X_pred - X_mean) / X_std\n",
    "X_pred_aug= np.hstack((1, X_pred_norm))\n",
    "y_pred = np.dot(X_pred_aug, theta)\n",
    "print (y_pred)"
   ]
  },
  {
   "cell_type": "code",
   "execution_count": null,
   "id": "45c287b8",
   "metadata": {},
   "outputs": [],
   "source": []
  }
 ],
 "metadata": {
  "hide_input": false,
  "interpreter": {
   "hash": "ad2bdc8ecc057115af97d19610ffacc2b4e99fae6737bb82f5d7fb13d2f2c186"
  },
  "kernelspec": {
   "display_name": "Python 3 (ipykernel)",
   "language": "python",
   "name": "python3"
  },
  "language_info": {
   "codemirror_mode": {
    "name": "ipython",
    "version": 3
   },
   "file_extension": ".py",
   "mimetype": "text/x-python",
   "name": "python",
   "nbconvert_exporter": "python",
   "pygments_lexer": "ipython3",
   "version": "3.10.6"
  },
  "latex_envs": {
   "LaTeX_envs_menu_present": true,
   "autoclose": true,
   "autocomplete": true,
   "bibliofile": "biblio.bib",
   "cite_by": "apalike",
   "current_citInitial": 1,
   "eqLabelWithNumbers": true,
   "eqNumInitial": 1,
   "hotkeys": {
    "equation": "Ctrl-E",
    "itemize": "Ctrl-I"
   },
   "labels_anchors": false,
   "latex_user_defs": false,
   "report_style_numbering": false,
   "user_envs_cfg": false
  },
  "toc": {
   "base_numbering": 1,
   "nav_menu": {},
   "number_sections": true,
   "sideBar": true,
   "skip_h1_title": false,
   "title_cell": "Table of Contents",
   "title_sidebar": "Contents",
   "toc_cell": false,
   "toc_position": {},
   "toc_section_display": true,
   "toc_window_display": false
  },
  "varInspector": {
   "cols": {
    "lenName": 16,
    "lenType": 16,
    "lenVar": 40
   },
   "kernels_config": {
    "python": {
     "delete_cmd_postfix": "",
     "delete_cmd_prefix": "del ",
     "library": "var_list.py",
     "varRefreshCmd": "print(var_dic_list())"
    },
    "r": {
     "delete_cmd_postfix": ") ",
     "delete_cmd_prefix": "rm(",
     "library": "var_list.r",
     "varRefreshCmd": "cat(var_dic_list()) "
    }
   },
   "types_to_exclude": [
    "module",
    "function",
    "builtin_function_or_method",
    "instance",
    "_Feature"
   ],
   "window_display": false
  }
 },
 "nbformat": 4,
 "nbformat_minor": 5
}
