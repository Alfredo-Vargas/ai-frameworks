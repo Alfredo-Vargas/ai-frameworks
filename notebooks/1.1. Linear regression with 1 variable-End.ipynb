{
 "cells": [
  {
   "cell_type": "markdown",
   "metadata": {},
   "source": [
    "Here we will implement linear regression with one variable to predict profits for a food truck.  <br>\n",
    "Suppose you are the CEO of a restaurant franchise and are considering different cities for opening a new  \n",
    "outlet. The chain already has trucks in various cities and you have data for profits and populations from  \n",
    "the cities. <br>\n",
    "The file ex1data1.txt  contains the dataset for our linear regression exercise.  <br>\n",
    "The first column is the population of a city and the second column is the profit of  <br>\n",
    "a food truck in that city. A negative value for profit indicates a loss. <br>\n",
    "First, as with doing any machine learning task, we need to import certain libraries. <br>\n"
   ]
  },
  {
   "cell_type": "code",
   "execution_count": 1,
   "metadata": {
    "ExecuteTime": {
     "end_time": "2021-09-22T21:18:46.498234Z",
     "start_time": "2021-09-22T21:18:45.349729Z"
    }
   },
   "outputs": [],
   "source": [
    "import numpy as np\n",
    "import pandas as pd\n",
    "import matplotlib.pyplot as plt"
   ]
  },
  {
   "cell_type": "markdown",
   "metadata": {},
   "source": [
    "Let's read and have a look at the data <br>\n",
    "Here we use the pandas read_csv function to read the comma separated values. <br>\n",
    "Watch out as we are using US-formatted data : ',' to separate elements and '.' used as decimal separator  <br>\n",
    "Also, we have used the head function to view the first few rows of our data.  <br>\n",
    "\n"
   ]
  },
  {
   "cell_type": "code",
   "execution_count": 2,
   "metadata": {
    "ExecuteTime": {
     "end_time": "2021-09-22T21:18:46.529226Z",
     "start_time": "2021-09-22T21:18:46.501227Z"
    }
   },
   "outputs": [
    {
     "name": "stdout",
     "output_type": "stream",
     "text": [
      "        0        1\n",
      "0  6.1101  17.5920\n",
      "1  5.5277   9.1302\n",
      "2  8.5186  13.6620\n",
      "3  7.0032  11.8540\n",
      "4  5.8598   6.8233\n"
     ]
    }
   ],
   "source": [
    "data = pd.read_csv('Data/ex1data1.txt', header = None, delimiter = \",\") #read from dataset\n",
    "X = data.iloc[:,0] # read first column, will be put in a 'series' variable\n",
    "y = data.iloc[:,1] # read second column, will be put in a 'series' variable\n",
    "m = len(y) # number of training example (97)\n",
    "print(data.head()) # view first few rows of the data\n"
   ]
  },
  {
   "cell_type": "code",
   "execution_count": 3,
   "metadata": {
    "ExecuteTime": {
     "end_time": "2021-09-22T21:18:46.715230Z",
     "start_time": "2021-09-22T21:18:46.531226Z"
    }
   },
   "outputs": [
    {
     "data": {
      "image/png": "[encoded data removed]",
      "text/plain": [
       "<Figure size 432x288 with 1 Axes>"
      ]
     },
     "metadata": {
      "needs_background": "light"
     },
     "output_type": "display_data"
    }
   ],
   "source": [
    "# Reading and Plotting the data\n",
    "# Before starting on any task, try to visualize the data. \n",
    "# You can use a scatter plot to visualize this data, since it has only two properties to plot (profit and population).\n",
    "# For multidimensional data : cannot be plotted on a 2-d or 3-d plot. \n",
    "\n",
    "plt.scatter(X, y)\n",
    "plt.xlabel('Population of City in 10,000s')\n",
    "plt.ylabel('Profit in $10,000s')\n",
    "plt.show()\n",
    "\n"
   ]
  },
  {
   "cell_type": "markdown",
   "metadata": {},
   "source": [
    "Initializing and converting into an nparray, we want to make use of array manipulations (dot product eg) <br>\n",
    "In the following lines, we add another dimension to our data to accommodate the intercept term,  <br>\n",
    "we want to find the best values for Theta0 and Theta1 for the function y = Theta0 + Theta1 * x, by  <br>\n",
    "getting the error/cost as small as possible.  <br>\n",
    "We also initialize the initial parameters theta to 0 and the learning rate alpha to 0.01. <br>\n"
   ]
  },
  {
   "cell_type": "code",
   "execution_count": 4,
   "metadata": {
    "ExecuteTime": {
     "end_time": "2021-09-22T21:18:46.730323Z",
     "start_time": "2021-09-22T21:18:46.717234Z"
    }
   },
   "outputs": [
    {
     "name": "stdout",
     "output_type": "stream",
     "text": [
      "<class 'pandas.core.series.Series'>\n"
     ]
    }
   ],
   "source": [
    "print(type(X)) # should be a pd.Series()\n",
    "X = X.to_numpy()[:,np.newaxis] # convert pd.Series() to an np.ndarray\n",
    "y = y.to_numpy()[:,np.newaxis] # convert pd.Series() to an np.ndarray\n",
    "\n",
    "# Will generate a warning:\n",
    "# Support for multi-dimensional indexing (e.g. `obj[:, None]`) is deprecated and will be removed in a future version.  Convert to a numpy array before indexing instead.\n",
    "\n",
    "# # Better w/o warning\n",
    "# X = X.to_numpy()[:,np.newaxis] # convert pd.Series() to an np.ndarray\n",
    "# y = y.to_numpy()[:,np.newaxis] # convert pd.Series() to an np.ndarray\n",
    "\n",
    "theta = np.zeros([2,1]) # start off with a (0, 0) array\n",
    "iterations = 10000 # \n",
    "alpha = 0.008 # magic number, defines the increase in change in Theta in every iteration we take\n",
    "ones = np.ones((m,1))\n",
    "X = np.hstack((ones, X)) \n",
    "\n"
   ]
  },
  {
   "cell_type": "code",
   "execution_count": 5,
   "metadata": {
    "ExecuteTime": {
     "end_time": "2021-09-22T21:18:46.745593Z",
     "start_time": "2021-09-22T21:18:46.732341Z"
    }
   },
   "outputs": [],
   "source": [
    "def computeCost(X, y, theta):\n",
    "    # We are going to calculate the MSE (Mean Square Error). NOT the RMSE (Root Mean Square Error)\n",
    "    #\n",
    "    # FILL IN THE NECESSARY CODE. Return the cost.\n",
    "    #\n",
    "    #\n",
    "    #    \n",
    "    temp = np.dot(X, theta) - y\n",
    "    return np.sum(np.power(temp, 2)) / (2*m)\n",
    "\n"
   ]
  },
  {
   "cell_type": "code",
   "execution_count": 6,
   "metadata": {
    "ExecuteTime": {
     "end_time": "2021-09-22T21:18:46.761547Z",
     "start_time": "2021-09-22T21:18:46.747597Z"
    }
   },
   "outputs": [
    {
     "name": "stdout",
     "output_type": "stream",
     "text": [
      "32.072733877455676\n"
     ]
    }
   ],
   "source": [
    "# What is the initial error/cost with the current theta0 and theta1 values = 0?\n",
    "# Assign the cost value to the variable J\n",
    "#\n",
    "# FILL IN THE NECESSARY CODE.\n",
    "#\n",
    "#\n",
    "#\n",
    "J = computeCost(X, y, theta)\n",
    "print(J)\n",
    "# You get a cost of 32.072733877455676\n",
    "\n"
   ]
  },
  {
   "cell_type": "code",
   "execution_count": 7,
   "metadata": {
    "ExecuteTime": {
     "end_time": "2021-09-22T21:18:46.777533Z",
     "start_time": "2021-09-22T21:18:46.763535Z"
    }
   },
   "outputs": [],
   "source": [
    "def gradientDescent(X, y, theta, alpha, iterations):\n",
    "    # First work out what the partial derivatives are, then apply the gradientDescent \n",
    "    # Parameters:\n",
    "    # -----------\n",
    "    # X: matrix with the input variables\n",
    "    # y: the correct results\n",
    "    # alpha: learning rate\n",
    "    # iterations: The number of times the gradientDescent should run.\n",
    "    #\n",
    "    # FILL IN THE NECESSARY CODE. After the iterations are performed, return the theta0 and theta1 values.\n",
    "    #\n",
    "    #\n",
    "    #\n",
    "\n",
    "    for _ in range(iterations):\n",
    "        temp = np.dot(X, theta) - y\n",
    "        temp = np.dot(X.T, temp)\n",
    "        theta = theta - (alpha/m) * temp\n",
    "    return theta\n",
    "\n"
   ]
  },
  {
   "cell_type": "code",
   "execution_count": 8,
   "metadata": {
    "ExecuteTime": {
     "end_time": "2021-09-22T21:18:46.838969Z",
     "start_time": "2021-09-22T21:18:46.779961Z"
    }
   },
   "outputs": [
    {
     "name": "stdout",
     "output_type": "stream",
     "text": [
      "[[-3.89577873]\n",
      " [ 1.19303343]]\n"
     ]
    }
   ],
   "source": [
    "theta = gradientDescent(X, y, theta, alpha, iterations)\n",
    "print(theta)\n"
   ]
  },
  {
   "cell_type": "code",
   "execution_count": 9,
   "metadata": {
    "ExecuteTime": {
     "end_time": "2021-09-22T21:18:46.854960Z",
     "start_time": "2021-09-22T21:18:46.840972Z"
    }
   },
   "outputs": [],
   "source": [
    "# Can we improve on these results?\n",
    "# Try with different values for the number of iterations and with different learning rates\n",
    "# Try eg with as number of iterations: 500, 1500, 5000, 10000, 100000,...\n",
    "# Try a different learning rate: 0.1, 0.03, 0.01, 0.003, 0.001, ...  \n",
    "\n",
    "# theta values with 500    iterations : [-2.28286727, 1.03099898] <br>\n",
    "# theta values with 1000   iterations : [-3.24140214, 1.1272942 ] <br>\n",
    "# theta values with 1500   iterations : [-3.63029144, 1.16636235] <br>\n",
    "# theta values with 10000  iterations : [-3.89578082, 1.19303364] <br>\n",
    "# theta values with 100000 iterations : [-3.89578088, 1.19303364] <br>\n",
    "\n"
   ]
  },
  {
   "cell_type": "code",
   "execution_count": 10,
   "metadata": {
    "ExecuteTime": {
     "end_time": "2021-09-22T21:18:46.870969Z",
     "start_time": "2021-09-22T21:18:46.856963Z"
    }
   },
   "outputs": [
    {
     "name": "stdout",
     "output_type": "stream",
     "text": [
      "4.476971375975599\n"
     ]
    }
   ],
   "source": [
    "J = computeCost(X, y, theta)\n",
    "print(J)\n"
   ]
  },
  {
   "cell_type": "markdown",
   "metadata": {},
   "source": [
    "<pre>\n",
    "\n",
    "Cost with 500    iterations : 4.713809531116866, alpha = 0.01\n",
    "Cost with 1000   iterations : 4.515955503078912, alpha = 0.01\n",
    "Cost with 1500   iterations : 4.483388256587726, alpha = 0.01\n",
    "Cost with 10000  iterations : 4.476971375975179, alpha = 0.01\n",
    "Cost with 100000 iterations : 4.476971375975179, alpha = 0.01 # Doesn't seem to improve any longer\n",
    "\n",
    "Cost with 500    iterations : 4.713809531116866, alpha = 0.03\n",
    "Cost with 1000   iterations : inf, alpha = 0.03\n",
    "Cost with 1000   iterations : 4.964695258134313, alpha = 0.003 # Goes in the wrong direction\n",
    "Cost with 1000   iterations : 5.480269332020323, alpha = 0.001 # Goes even further in the wrong direction\n",
    "Cost with 1000   iterations : 4.557238856950963, alpha = 0.008 # Better than before\n",
    "Cost with 10000  iterations : 4.476971375975599, alpha = 0.008 # Improving. Very near to the best of the previous series. \n",
    "                                                               # But 0.01 is still better, when using the same amount of iterations.\n",
    "\n",
    "</pre>\n",
    "\n"
   ]
  },
  {
   "cell_type": "code",
   "execution_count": 11,
   "metadata": {
    "ExecuteTime": {
     "end_time": "2021-09-22T21:18:47.028993Z",
     "start_time": "2021-09-22T21:18:46.872964Z"
    }
   },
   "outputs": [
    {
     "data": {
      "image/png": "[encoded data removed]",
      "text/plain": [
       "<Figure size 432x288 with 1 Axes>"
      ]
     },
     "metadata": {
      "needs_background": "light"
     },
     "output_type": "display_data"
    }
   ],
   "source": [
    "plt.scatter(X[:,1], y)\n",
    "plt.xlabel('Population of City in 10,000s')\n",
    "plt.ylabel('Profit in $10,000s')\n",
    "plt.plot(X[:,1], np.dot(X, theta))\n",
    "plt.show()\n"
   ]
  }
 ],
 "metadata": {
  "interpreter": {
   "hash": "811e36bad7153009c771f0c7f84ef04f53e2a3df37e5eb07d874066f830ce698"
  },
  "kernelspec": {
   "display_name": "Python 3 (ipykernel)",
   "language": "python",
   "name": "python3"
  },
  "language_info": {
   "codemirror_mode": {
    "name": "ipython",
    "version": 3
   },
   "file_extension": ".py",
   "mimetype": "text/x-python",
   "name": "python",
   "nbconvert_exporter": "python",
   "pygments_lexer": "ipython3",
   "version": "3.10.6"
  },
  "toc": {
   "base_numbering": 1,
   "nav_menu": {},
   "number_sections": true,
   "sideBar": true,
   "skip_h1_title": false,
   "title_cell": "Table of Contents",
   "title_sidebar": "Contents",
   "toc_cell": false,
   "toc_position": {},
   "toc_section_display": true,
   "toc_window_display": false
  }
 },
 "nbformat": 4,
 "nbformat_minor": 4
}
