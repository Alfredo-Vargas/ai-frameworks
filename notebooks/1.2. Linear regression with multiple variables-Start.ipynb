{
 "cells": [
  {
   "cell_type": "markdown",
   "id": "60d9fd5f",
   "metadata": {},
   "source": [
    "# Linear regression with multiple features/variables\n",
    "Let's extend the idea of linear regression to work with multiple independent variables (Multivariate Linear Regression).\n",
    "\n",
    "## Problem context:\n",
    "We want to sell houses and based on some characteristics you want to know what a good market price would be.\n",
    "We have gathered information on the recent houses that were sold in the area.\n",
    "\n",
    "It is your job to predict housing prices based on these features.\n",
    "\n",
    "The file ex1data2.txt contains a training set of housing prices in Portland, Oregon.\n",
    "\n",
    "The data is organized as\n",
    "- 1st column : size of the house (in square feet),\n",
    "- 2nd column is the number of bedrooms,\n",
    "- 3rd column is the price of the house.\n",
    "\n",
    "The only difference with the previous example is that we now have more than one independent variables (but the concepts you have learnt in the previous section applies here as well)."
   ]
  },
  {
   "cell_type": "code",
   "execution_count": 86,
   "id": "59fd042f",
   "metadata": {
    "ExecuteTime": {
     "end_time": "2021-09-30T10:04:03.931974Z",
     "start_time": "2021-09-30T10:04:03.915970Z"
    }
   },
   "outputs": [],
   "source": [
    "# #################################################\n",
    "# FILL IN THE NECESSARY CODE.\n",
    "# Import the necessary packages\n",
    "# ps: We need to be able to manipulate dataframes and perform matrix calculation\n",
    "import numpy as np\n",
    "import pandas as pd\n",
    "import matplotlib.pyplot as plt"
   ]
  },
  {
   "cell_type": "code",
   "execution_count": 87,
   "id": "7d2e4808",
   "metadata": {
    "ExecuteTime": {
     "end_time": "2021-09-30T10:04:03.947970Z",
     "start_time": "2021-09-30T10:04:03.931974Z"
    }
   },
   "outputs": [
    {
     "name": "stdout",
     "output_type": "stream",
     "text": [
      "      0  1       2\n",
      "0  2104  3  399900\n",
      "1  1600  3  329900\n",
      "2  2400  3  369000\n",
      "3  1416  2  232000\n",
      "4  3000  4  539900\n"
     ]
    }
   ],
   "source": [
    "# #################################################\n",
    "# FILL IN THE NECESSARY CODE.\n",
    "# Read the data from the file \"ex1data2.txt\" (available on Canvas) and display the top 5 rows of this data.\n",
    "data = pd.read_csv('Data/ex1data2.txt', header = None, delimiter = \",\") #read from dataset\n",
    "X = data.iloc[:,0:2] # read first column, will be put in a 'series' variable\n",
    "y = data.iloc[:,2] # read second column, will be put in a 'series' variable\n",
    "m = len(y) # number of training example (97)\n",
    "print(data.head()) # view first few rows of the data"
   ]
  },
  {
   "cell_type": "markdown",
   "id": "45d4e413",
   "metadata": {
    "ExecuteTime": {
     "end_time": "2021-09-29T09:14:49.756873Z",
     "start_time": "2021-09-29T09:14:49.742872Z"
    }
   },
   "source": [
    "Fill in the following. Make sure that we have numpy arrays to continue our calculations"
   ]
  },
  {
   "cell_type": "code",
   "execution_count": 88,
   "id": "1b78b277",
   "metadata": {
    "ExecuteTime": {
     "end_time": "2021-09-30T10:04:03.963966Z",
     "start_time": "2021-09-30T10:04:03.947970Z"
    }
   },
   "outputs": [],
   "source": [
    "# #################################################\n",
    "# FILL IN THE NECESSARY CODE.\n",
    "# We need\n",
    "# print(X)\n",
    "# print(y)\n",
    "X = X.to_numpy(dtype=float)\n",
    "y1 = y.to_numpy()[:, np.newaxis]\n",
    "# y2 = y.to_numpy()\n",
    "# print(X.shape)\n",
    "# print(y1.shape)\n",
    "# print(y2.shape)\n",
    "m = len(X)"
   ]
  },
  {
   "cell_type": "markdown",
   "id": "2b959f27",
   "metadata": {},
   "source": [
    "## Feature Normalization\n",
    "Looking at the data, the house sizes are about 1000 times the number of bedrooms. \n",
    "So the house size is orders of magnitude larger, so the best is to \"scale the features\" or \"normalize\", \n",
    "this will have as benefit that gradient descent converge much more quickly.\n",
    "\n",
    "We will\n",
    "  - calculate the mean of each of the features (Xo, X1)\n",
    "  - subtract the mean value of each feature from the dataset.\n",
    "  - divide each feature values by their respective standard deviations"
   ]
  },
  {
   "cell_type": "markdown",
   "id": "2ad26824-3de9-40e8-88e2-9c4384f33f2c",
   "metadata": {},
   "source": [
    "![axis in numpy](./images/axis_0_axis_1_in_numpy.jpg)"
   ]
  },
  {
   "cell_type": "code",
   "execution_count": 89,
   "id": "b031c885",
   "metadata": {
    "ExecuteTime": {
     "end_time": "2021-09-30T10:04:03.975973Z",
     "start_time": "2021-09-30T10:04:03.963966Z"
    }
   },
   "outputs": [
    {
     "name": "stdout",
     "output_type": "stream",
     "text": [
      "(2,)\n",
      "[2000.68085106    3.17021277]\n",
      "(2,)\n",
      "[7.86202619e+02 7.52842809e-01]\n"
     ]
    }
   ],
   "source": [
    "# #################################################\n",
    "# FILL IN THE NECESSARY CODE.\n",
    "# Normalize X\n",
    "# Should we normalize y?\n",
    "Xmean = np.mean(X, axis=0)\n",
    "Xstd = np.std(X, axis=0)\n",
    "print(Xmean.shape)\n",
    "print(Xmean)\n",
    "print(Xstd.shape)\n",
    "print(Xstd)\n",
    "X[:, 0] = (X[:, 0] - Xmean[0]) / Xstd[0]\n",
    "X[:, 1] = (X[:, 1] - Xmean[1]) / Xstd[1]"
   ]
  },
  {
   "cell_type": "markdown",
   "id": "41ab5408",
   "metadata": {},
   "source": [
    "Adding the intercept term and initializing parameters"
   ]
  },
  {
   "cell_type": "code",
   "execution_count": 91,
   "id": "ddf15c49",
   "metadata": {
    "ExecuteTime": {
     "end_time": "2021-09-30T10:04:03.991969Z",
     "start_time": "2021-09-30T10:04:03.975973Z"
    }
   },
   "outputs": [
    {
     "name": "stdout",
     "output_type": "stream",
     "text": [
      "(47, 3)\n",
      "47\n",
      "[[ 1.          0.13141542 -0.22609337]\n",
      " [ 1.         -0.5096407  -0.22609337]\n",
      " [ 1.          0.5079087  -0.22609337]]\n"
     ]
    }
   ],
   "source": [
    "# #################################################\n",
    "# FILL IN THE NECESSARY CODE.\n",
    "# Augment the matrix X so that we can perform a X*theta in 1 go. \n",
    "# So include the possibility to multiply in 1 go, including theta0.\n",
    "# Convert X_norm into the variable X_aug\n",
    "# So include the possibility to multiply X*theta in 1 go, including theta0 (the intercept).\n",
    "theta = np.zeros([3, 1])\n",
    "ones = np.ones((m, 1))\n",
    "X_aug = np.column_stack((ones, X))\n",
    "print(X_aug.shape)\n",
    "print(len(X_aug))\n",
    "print(X_aug[0:3])"
   ]
  },
  {
   "cell_type": "code",
   "execution_count": 140,
   "id": "bcd2463c",
   "metadata": {
    "ExecuteTime": {
     "end_time": "2021-09-30T10:04:04.007968Z",
     "start_time": "2021-09-30T10:04:03.991969Z"
    }
   },
   "outputs": [],
   "source": [
    "# #################################################\n",
    "# FILL IN THE NECESSARY CODE.\n",
    "# Initialize all the hyperparameters of our model\n",
    "#   Use alpha = for the learning rate\n",
    "#   num_iters = number of iterations\n",
    "#   theta : initialize  theta\n",
    "alpha = 0.008\n",
    "num_iters = 10_000\n",
    "# theta already initialized to zero"
   ]
  },
  {
   "cell_type": "markdown",
   "id": "eb551724",
   "metadata": {},
   "source": [
    "Computing the cost"
   ]
  },
  {
   "cell_type": "code",
   "execution_count": 141,
   "id": "8d188a5d-75a1-420e-8ae8-d2ef23d566c4",
   "metadata": {},
   "outputs": [
    {
     "name": "stdout",
     "output_type": "stream",
     "text": [
      "(47, 3)\n",
      "(3, 1)\n"
     ]
    }
   ],
   "source": [
    "print(X_aug.shape)\n",
    "print(theta.shape)"
   ]
  },
  {
   "cell_type": "code",
   "execution_count": 142,
   "id": "ca6c07bb",
   "metadata": {
    "ExecuteTime": {
     "end_time": "2021-09-30T10:04:04.023966Z",
     "start_time": "2021-09-30T10:04:04.007968Z"
    }
   },
   "outputs": [],
   "source": [
    "# #################################################\n",
    "# FILL IN THE NECESSARY CODE.\n",
    "# Calculate the MSE.\n",
    "def computeCostMulti(X, y, theta):\n",
    "    temp = np.dot(X, theta) - y\n",
    "    return np.sum(np.power(temp, 2)) / (2 * m)"
   ]
  },
  {
   "cell_type": "code",
   "execution_count": 143,
   "id": "419c6b09",
   "metadata": {
    "ExecuteTime": {
     "end_time": "2021-09-30T10:04:04.308058Z",
     "start_time": "2021-09-30T10:04:04.023966Z"
    }
   },
   "outputs": [
    {
     "name": "stdout",
     "output_type": "stream",
     "text": [
      "65591548106.45744\n"
     ]
    }
   ],
   "source": [
    "J = computeCostMulti(X_aug, y, theta)\n",
    "print(J)"
   ]
  },
  {
   "cell_type": "markdown",
   "id": "9bbb6cd2-831e-42ed-b9df-d8804d5962ba",
   "metadata": {
    "ExecuteTime": {
     "end_time": "2021-09-30T10:04:04.308058Z",
     "start_time": "2021-09-30T10:04:03.917Z"
    }
   },
   "source": [
    "<b>Check your calculation</b>\n",
    "\n",
    "Cost :  65591548106.45744"
   ]
  },
  {
   "cell_type": "markdown",
   "id": "4d44e012",
   "metadata": {
    "ExecuteTime": {
     "end_time": "2021-09-29T09:51:05.865384Z",
     "start_time": "2021-09-29T09:51:05.819362Z"
    }
   },
   "source": [
    "## Finding the optimal parameters using Gradient Descent"
   ]
  },
  {
   "cell_type": "code",
   "execution_count": 144,
   "id": "0bc365b1",
   "metadata": {
    "ExecuteTime": {
     "end_time": "2021-09-30T10:04:04.308058Z",
     "start_time": "2021-09-30T10:04:03.919Z"
    }
   },
   "outputs": [],
   "source": [
    "# #################################################\n",
    "# FILL IN THE NECESSARY CODE.\n",
    "#    X contains the multivaraite input\n",
    "#    y contain the labels\n",
    "#    theta : parameters list of our linear model\n",
    "#    alpha : the learning rate\n",
    "#    num_iters : number of iterations\n",
    "#    return parameter (theta) : parameters list of our linear model\n",
    "\n",
    "def gradientDescentMulti(X, y, theta, alpha, iterations):\n",
    "    for _ in range(iterations):\n",
    "        temp = np.dot(X, theta) - y\n",
    "        temp = np.dot(X.T, temp)\n",
    "        theta = theta - (alpha/m) * temp\n",
    "    return theta"
   ]
  },
  {
   "cell_type": "code",
   "execution_count": 145,
   "id": "ac2b9c4f",
   "metadata": {
    "ExecuteTime": {
     "end_time": "2021-09-30T10:04:04.312061Z",
     "start_time": "2021-09-30T10:04:03.921Z"
    }
   },
   "outputs": [
    {
     "name": "stdout",
     "output_type": "stream",
     "text": [
      "Theta with 100 iterations: [324225.18388214], [93661.31403812], [8355.5486845]\n",
      "Theta with 200 iterations: [339642.90450832], [105377.32631522], [-2514.95084841]\n",
      "Theta with 400 iterations: [340410.91897274], [109162.68848142], [-6293.24735132]\n",
      "Theta with 1000 iterations: [340412.65957445], [109447.698242], [-6578.25662652]\n",
      "Theta with 5000 iterations: [340412.65957447], [109447.79646964], [-6578.35485416]\n",
      "Theta with 10000 iterations: [340412.65957447], [109447.79646964], [-6578.35485416]\n"
     ]
    }
   ],
   "source": [
    "theta = gradientDescentMulti(X_aug, y, theta, alpha, num_iters)\n",
    "# print(theta)\n",
    "iter_values = [100, 200, 400, 1000, 5000, 10000]\n",
    "\n",
    "for iteration in iter_values:\n",
    "    theta0 = np.zeros([3, 1])\n",
    "    theta_result = gradientDescentMulti(X_aug, y, theta0, 0.03, iteration)\n",
    "    print(f\"Theta with {iteration} iterations: {theta_result[0]}, {theta_result[1]}, {theta_result[2]}\")"
   ]
  },
  {
   "cell_type": "markdown",
   "id": "4f966f3b",
   "metadata": {},
   "source": [
    "<pre>\n",
    "(results with alpha = 0.03)\n",
    "Theta with    100 iterations : [[3.39642905e+05]  [1.44952956e+05]  [5.98800848e+01]]\n",
    "Theta with    200 iterations : [[3.39642905e+05]  [1.44952956e+05]  [5.98800848e+01]]\n",
    "Theta with    400 iterations : [[3.40410919e+05]  [1.53263978e+05]  [4.64918053e+01]]\n",
    "Theta with   1000 iterations : [[3.40412660e+05]  [1.53769414e+05]  [-6.77111420e+00]]\n",
    "Theta with   5000 iterations : [[340412.65957447] [153769.70114155] [-363.65654995]]\n",
    "Theta with  10000 iterations : [[340412.65957447] [153769.94033767] [-809.74547603]]\n",
    "</pre>\n",
    "We now have the optimized value of theta. Use these values in the above cost function."
   ]
  },
  {
   "cell_type": "code",
   "execution_count": 127,
   "id": "e2c5dfd6",
   "metadata": {
    "ExecuteTime": {
     "end_time": "2021-09-30T10:04:04.312061Z",
     "start_time": "2021-09-30T10:04:03.923Z"
    }
   },
   "outputs": [
    {
     "name": "stdout",
     "output_type": "stream",
     "text": [
      "Cost with 100 iterations: 2278400086.9068036\n",
      "Cost with 200 iterations: 2050854463.9196255\n",
      "Cost with 400 iterations: 2043315820.8112059\n",
      "Cost with 1000 iterations: 2043280050.6070747\n",
      "Cost with 5000 iterations: 2043280050.6028283\n",
      "Cost with 10000 iterations: 2043280050.6028283\n"
     ]
    }
   ],
   "source": [
    "for iteration in iter_values:\n",
    "    theta0 = np.zeros([3, 1])\n",
    "    theta_result = gradientDescentMulti(X_aug, y, theta0, 0.03, iteration)\n",
    "    J = computeCostMulti(X_aug, y, theta_result)\n",
    "    print(f\"Cost with {iteration} iterations: {J}\")\n",
    "# J = computeCostMulti(X_aug, y, theta)\n",
    "# print(J)"
   ]
  },
  {
   "cell_type": "markdown",
   "id": "9710e965",
   "metadata": {},
   "source": [
    "<pre>\n",
    "Cost with    100 iterations :   10596969344.166979\n",
    "Cost with    200 iterations :   3344770635.4916563\n",
    "Cost with    400 iterations :   2105448288.6292474\n",
    "Cost with   1000 iterations :   2043498948.1433077\n",
    "Cost with   5000 iterations :   2043280050.6028287\n",
    "Cost with  10000 iterations :   2043280050.6028283\n",
    "</pre>"
   ]
  },
  {
   "cell_type": "markdown",
   "id": "d9534110",
   "metadata": {},
   "source": [
    "## Interference Step\n",
    "What would be the price for a 2480 square foot, 3 bedroom house?\n",
    "\n",
    "How confident are you about this prediction?"
   ]
  },
  {
   "cell_type": "code",
   "execution_count": null,
   "id": "c8424b25",
   "metadata": {
    "ExecuteTime": {
     "end_time": "2021-09-30T10:04:04.312061Z",
     "start_time": "2021-09-30T10:04:03.926Z"
    }
   },
   "outputs": [],
   "source": [
    "# #################################################\n",
    "# FILL IN THE NECESSARY CODE."
   ]
  },
  {
   "cell_type": "markdown",
   "id": "b01ea2d7",
   "metadata": {
    "ExecuteTime": {
     "end_time": "2021-09-29T18:02:12.944097Z",
     "start_time": "2021-09-29T18:02:12.938105Z"
    }
   },
   "source": [
    "What would be the price for a 5500 square foot, 6 bedroom house?\n",
    "\n",
    "How confident are you about this prediction?"
   ]
  },
  {
   "cell_type": "code",
   "execution_count": null,
   "id": "a2f0607c",
   "metadata": {
    "ExecuteTime": {
     "end_time": "2021-09-30T10:04:04.316053Z",
     "start_time": "2021-09-30T10:04:03.928Z"
    }
   },
   "outputs": [],
   "source": [
    "# #################################################\n",
    "# FILL IN THE NECESSARY CODE."
   ]
  }
 ],
 "metadata": {
  "kernelspec": {
   "display_name": "Python 3 (ipykernel)",
   "language": "python",
   "name": "python3"
  },
  "language_info": {
   "codemirror_mode": {
    "name": "ipython",
    "version": 3
   },
   "file_extension": ".py",
   "mimetype": "text/x-python",
   "name": "python",
   "nbconvert_exporter": "python",
   "pygments_lexer": "ipython3",
   "version": "3.10.6"
  },
  "toc": {
   "base_numbering": 1,
   "nav_menu": {},
   "number_sections": true,
   "sideBar": true,
   "skip_h1_title": false,
   "title_cell": "Table of Contents",
   "title_sidebar": "Contents",
   "toc_cell": false,
   "toc_position": {},
   "toc_section_display": true,
   "toc_window_display": false
  }
 },
 "nbformat": 4,
 "nbformat_minor": 5
}
