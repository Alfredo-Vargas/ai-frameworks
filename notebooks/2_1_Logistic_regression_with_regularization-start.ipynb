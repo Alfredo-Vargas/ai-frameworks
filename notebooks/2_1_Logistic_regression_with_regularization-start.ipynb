{
 "cells": [
  {
   "cell_type": "markdown",
   "metadata": {},
   "source": [
    "# Regularized logistic regression\n",
    "## Problem statement\n",
    "We want to be sure to pass a quality check to see if microchips perform OK.\n",
    "During QA (Quality Assurance), each microchip goes through various tests to ensure it is functioning correctly. \n",
    "We have the data for 2 tests and have identified if the chips were OK in those tests or not.\n",
    "0 means the chip has been rejected and 1 means accepted.\n",
    "We will use regularized logistic regression using the data to predict the quality of our batches. "
   ]
  },
  {
   "cell_type": "markdown",
   "metadata": {},
   "source": [
    "## Loading  libraries."
   ]
  },
  {
   "cell_type": "code",
   "execution_count": 15,
   "metadata": {
    "ExecuteTime": {
     "end_time": "2022-10-19T09:04:06.216830Z",
     "start_time": "2022-10-19T09:04:06.208819Z"
    }
   },
   "outputs": [],
   "source": [
    "# #################################################\n",
    "# FILL IN THE NECESSARY CODE.\n",
    "# Import the necessary packages\n",
    "# This time we are going to use an optimizer out of the scipy.optimize package. Abreviate to opt.\n",
    "import numpy as np\n",
    "import pandas as pd\n",
    "import matplotlib.pyplot as plt\n",
    "import scipy.optimize as opt\n",
    "import itertools as it"
   ]
  },
  {
   "cell_type": "markdown",
   "metadata": {},
   "source": [
    "## We read the data"
   ]
  },
  {
   "cell_type": "markdown",
   "metadata": {
    "ExecuteTime": {
     "end_time": "2021-09-29T20:22:27.470717Z",
     "start_time": "2021-09-29T20:22:27.441717Z"
    }
   },
   "source": [
    "Put all data in X, except for the last column. \n",
    "\n",
    "The last column contains the label info (0 or 1, to indicate that a specific chip is not OK or OK, respectively).\n",
    "\n",
    "I'll refer to $x_1$ and $x_2$ for the first and second column of X."
   ]
  },
  {
   "cell_type": "code",
   "execution_count": 16,
   "metadata": {
    "ExecuteTime": {
     "end_time": "2022-10-19T09:04:06.248817Z",
     "start_time": "2022-10-19T09:04:06.233816Z"
    }
   },
   "outputs": [
    {
     "data": {
      "text/html": [
       "<div>\n",
       "<style scoped>\n",
       "    .dataframe tbody tr th:only-of-type {\n",
       "        vertical-align: middle;\n",
       "    }\n",
       "\n",
       "    .dataframe tbody tr th {\n",
       "        vertical-align: top;\n",
       "    }\n",
       "\n",
       "    .dataframe thead th {\n",
       "        text-align: right;\n",
       "    }\n",
       "</style>\n",
       "<table border=\"1\" class=\"dataframe\">\n",
       "  <thead>\n",
       "    <tr style=\"text-align: right;\">\n",
       "      <th></th>\n",
       "      <th>0</th>\n",
       "      <th>1</th>\n",
       "      <th>2</th>\n",
       "    </tr>\n",
       "  </thead>\n",
       "  <tbody>\n",
       "    <tr>\n",
       "      <th>0</th>\n",
       "      <td>0.051267</td>\n",
       "      <td>0.69956</td>\n",
       "      <td>1</td>\n",
       "    </tr>\n",
       "    <tr>\n",
       "      <th>1</th>\n",
       "      <td>-0.092742</td>\n",
       "      <td>0.68494</td>\n",
       "      <td>1</td>\n",
       "    </tr>\n",
       "    <tr>\n",
       "      <th>2</th>\n",
       "      <td>-0.213710</td>\n",
       "      <td>0.69225</td>\n",
       "      <td>1</td>\n",
       "    </tr>\n",
       "    <tr>\n",
       "      <th>3</th>\n",
       "      <td>-0.375000</td>\n",
       "      <td>0.50219</td>\n",
       "      <td>1</td>\n",
       "    </tr>\n",
       "    <tr>\n",
       "      <th>4</th>\n",
       "      <td>-0.513250</td>\n",
       "      <td>0.46564</td>\n",
       "      <td>1</td>\n",
       "    </tr>\n",
       "  </tbody>\n",
       "</table>\n",
       "</div>"
      ],
      "text/plain": [
       "          0        1  2\n",
       "0  0.051267  0.69956  1\n",
       "1 -0.092742  0.68494  1\n",
       "2 -0.213710  0.69225  1\n",
       "3 -0.375000  0.50219  1\n",
       "4 -0.513250  0.46564  1"
      ]
     },
     "execution_count": 16,
     "metadata": {},
     "output_type": "execute_result"
    }
   ],
   "source": [
    "# #################################################\n",
    "# FILL IN THE NECESSARY CODE.\n",
    "# Read the data from the file \"ex2data2.txt\" (available on Canvas) and display\n",
    "# the top 5 rows of this data.\n",
    "# Display also the top rows of this file\n",
    "data = pd.read_csv('Data/ex2data2.txt', header=None)\n",
    "X = data.iloc[:, :-1]\n",
    "y = data.iloc[:, -1]\n",
    "data.head()"
   ]
  },
  {
   "cell_type": "markdown",
   "metadata": {},
   "source": [
    "## Visualizing the data : always good "
   ]
  },
  {
   "cell_type": "markdown",
   "metadata": {
    "ExecuteTime": {
     "end_time": "2021-09-29T20:22:27.705716Z",
     "start_time": "2021-09-29T20:22:27.472720Z"
    }
   },
   "source": [
    "Let's first identify the chips that pass our quality check and those chips that don't pass the check.\n",
    "\n",
    "For this create a mask that verifies if the output is 1 (so a test for our output variable y, equaling 1) on the 2 features in our matrix X?\n",
    "\n",
    "We'll use this mask as a filter on both the $x_1$ and $x_2$ data."
   ]
  },
  {
   "cell_type": "code",
   "execution_count": 17,
   "metadata": {
    "ExecuteTime": {
     "end_time": "2022-10-19T09:04:06.264821Z",
     "start_time": "2022-10-19T09:04:06.257813Z"
    }
   },
   "outputs": [],
   "source": [
    "# #################################################\n",
    "# FILL IN THE NECESSARY CODE.\n",
    "# Create the mask variable:\n",
    "mask = y == 1"
   ]
  },
  {
   "cell_type": "markdown",
   "metadata": {
    "ExecuteTime": {
     "end_time": "2021-09-29T20:22:27.705716Z",
     "start_time": "2021-09-29T20:22:27.472720Z"
    }
   },
   "source": [
    "Let's apply this mask to both our variables $x_1$ and $x_2$ (within X).\n",
    "Let's create a scatter plot of the data ($x_1$ vs $x_2$).\n",
    "We'll draw both scatterplots -  those that passed and those that didn't - in the same drawing.\n",
    "\n",
    "For the $x_1$ label (xlabel) we'll give it the name 'Microchip Test1'.\n",
    "For the $x_2$ label (ylabel) we'll give it the name 'Microchip Test2'."
   ]
  },
  {
   "cell_type": "code",
   "execution_count": 18,
   "metadata": {
    "ExecuteTime": {
     "end_time": "2022-10-19T09:04:06.280833Z",
     "start_time": "2022-10-19T09:04:06.270814Z"
    }
   },
   "outputs": [
    {
     "data": {
      "image/png": "[encoded data removed]",
      "text/plain": [
       "<Figure size 640x480 with 1 Axes>"
      ]
     },
     "metadata": {},
     "output_type": "display_data"
    }
   ],
   "source": [
    "# #################################################\n",
    "# FILL IN THE NECESSARY CODE.\n",
    "# Create the 2 scatter plots\n",
    "valid_chips = plt.scatter(X[mask][0].values, X[mask][1].values)\n",
    "not_valid_chips = plt.scatter(X[~mask][0].values, X[~mask][1].values)\n",
    "\n",
    "# #################################################\n",
    "# FILL IN THE NECESSARY CODE.\n",
    "# Create the x and y labels for the chart.\n",
    "plt.xlabel(\"Microchip Test1\")\n",
    "plt.ylabel(\"Microchip Test2\")\n",
    "\n",
    "# #################################################\n",
    "# FILL IN THE NECESSARY CODE.\n",
    "# Add in a legend (as you have multiple scatterplots, you must provide a\n",
    "# tupple of data points and a legend text)\n",
    "# Also draw the plot.\n",
    "\n",
    "plt.legend((valid_chips, not_valid_chips), (\"Valid Chip\", \"Not Valid Chip\"))\n",
    "plt.show()"
   ]
  },
  {
   "cell_type": "markdown",
   "metadata": {},
   "source": [
    "This is for sure not a linear problem : So applying 'standard' logistic regression will not help, as \n",
    "logistic regression will only define a <b>linear</b> boundary.\n",
    "\n",
    "We will need to create additional features out of the given features. "
   ]
  },
  {
   "cell_type": "markdown",
   "metadata": {},
   "source": [
    "## Feature mapping/Feature engineering\n",
    "We will implement feature engineering by creating polynomials out of the features x1 and x2 up to the sixth \n",
    "power (default value, but overrulable by setting this parameter to a higher or lower degree).\n",
    "\n",
    "As a result of this mapping, our vector of two features (the scores on two QA tests) has been \n",
    "transformed into a 28-dimensional vector (in case of a polynomial of degrees = 6). \n",
    "\n",
    "A logistic regression classifier trained on this higher-dimension feature vector will have a more complex decision boundary and will appear nonlinear when drawn in our 2-dimensional plot.\n",
    "\n",
    "While the feature mapping allows us to build a more expressive classifier, it is also more susceptible to <b>overfitting</b>. \n",
    "\n",
    "In the next parts of the exercise, you will implement regularized logistic regression to fit the data and also see for yourself how regularization can help combat the overfitting problem."
   ]
  },
  {
   "cell_type": "markdown",
   "metadata": {
    "ExecuteTime": {
     "end_time": "2021-09-29T20:22:27.439717Z",
     "start_time": "2021-09-29T20:22:27.425721Z"
    }
   },
   "source": [
    "### Implement feature engineering\n",
    "We'll use a non-linear boundary to separate the output space. As we have 2 variables, $x_1$ and $x_2$, in our data, we want to combine these into a non-linear function.\n",
    "\n",
    "We'll built a function of the form (example degree 6):\n",
    "$1+x_1^0*x_2^0+x_1^0*x_2^1+x_1^0*x_2^2...+x_1^0*x_2^6 + x_1^1*x_2^0+x_1^1*x_2^1+x_1^1*x_2^2...+x_1^1*x_2^5 + x_1^2*x_2^0+x_1^2*x_2^1+x_1^2*x_2^2+x_1^2*x_2^3 ...$ where the addition of the powers of the features $x_1^a$ and $x_2^b$, so the addition of $a$  and $b$, is below a certain number (or degree).\n",
    "\n",
    "Think in 'variable combination', but use matrix multiplications (np.multiply) and the power function (np.power) of numpy."
   ]
  },
  {
   "cell_type": "markdown",
   "metadata": {},
   "source": [
    "- It is not repeated the linear term? 1 + $x_1^0 * x_2^0$"
   ]
  },
  {
   "cell_type": "code",
   "execution_count": 19,
   "metadata": {
    "ExecuteTime": {
     "end_time": "2022-10-19T09:04:15.014133Z",
     "start_time": "2022-10-19T09:04:15.001150Z"
    }
   },
   "outputs": [],
   "source": [
    "degree = 6             # The degree of the polynomial linear function.\n",
    "lmbda = 0.001          # The adjustments or jumps made between 2 iterations.\n",
    "# Try out different values ranging from 0.3, 0.1, 0.03, 0.01, ..., 0.00001."
   ]
  },
  {
   "cell_type": "code",
   "execution_count": 20,
   "metadata": {
    "ExecuteTime": {
     "end_time": "2022-10-19T09:04:15.180049Z",
     "start_time": "2022-10-19T09:04:15.164425Z"
    },
    "code_folding": []
   },
   "outputs": [],
   "source": [
    "# #################################################\n",
    "# FILL IN THE NECESSARY CODE.\n",
    "# Create the polynomial function\n",
    "def mapFeature(X1, X2, degree=6):\n",
    "    test1 = X1.to_numpy()\n",
    "    test2 = X2.to_numpy()\n",
    "    # powers\n",
    "    dimensions = np.arange(degree + 1)\n",
    "    combinations = it.product(dimensions, dimensions)\n",
    "    powers = list(filter(lambda combination: combination[0] + combination[1] <= degree, combinations))\n",
    "    n_rows = len(X1)\n",
    "    n_cols = len(powers)\n",
    "    X_new = np.empty((n_rows, n_cols))\n",
    "    for i in range(len(powers)):\n",
    "        m = powers[i][0]\n",
    "        n = powers[i][1]\n",
    "        X_new[:, i] = np.multiply(np.power(test1, m), np.power(test2, n))\n",
    "    return X_new"
   ]
  },
  {
   "cell_type": "code",
   "execution_count": 21,
   "metadata": {
    "ExecuteTime": {
     "end_time": "2022-10-19T09:04:15.918195Z",
     "start_time": "2022-10-19T09:04:15.331558Z"
    }
   },
   "outputs": [],
   "source": [
    "# Define a new varialbe X_eng, that holds our newly generated feature\n",
    "X_eng = mapFeature(X.iloc[:, 0], X.iloc[:, 1], degree)"
   ]
  },
  {
   "cell_type": "markdown",
   "metadata": {
    "ExecuteTime": {
     "end_time": "2021-09-29T20:22:27.769717Z",
     "start_time": "2021-09-29T20:22:27.755722Z"
    }
   },
   "source": [
    "## Implementation\n",
    "Before you start with the actual cost function, recall that the logistic regression hypothesis makes use of the sigmoid function. \n",
    "\n",
    "Let's implement the sigmoid function."
   ]
  },
  {
   "cell_type": "markdown",
   "metadata": {
    "ExecuteTime": {
     "end_time": "2022-10-19T09:04:15.925201Z",
     "start_time": "2022-10-19T09:04:15.925201Z"
    }
   },
   "source": [
    "### Sigmoid Function"
   ]
  },
  {
   "cell_type": "code",
   "execution_count": 22,
   "metadata": {
    "ExecuteTime": {
     "end_time": "2022-10-19T09:04:15.930201Z",
     "start_time": "2022-10-19T09:04:15.930201Z"
    }
   },
   "outputs": [],
   "source": [
    "# #################################################\n",
    "# FILL IN THE NECESSARY CODE.\n",
    "# Implement the logistic regression function.\n",
    "# Use numpy functions for the implementation.\n",
    "def sigmoid(x):\n",
    "    return 1/(1+np.exp(-x))"
   ]
  },
  {
   "cell_type": "markdown",
   "metadata": {},
   "source": [
    "### Cost Function\n",
    "As usual lets code our cost function and gradient functions."
   ]
  },
  {
   "cell_type": "code",
   "execution_count": 23,
   "metadata": {
    "ExecuteTime": {
     "end_time": "2022-10-19T09:04:16.726728Z",
     "start_time": "2022-10-19T09:04:16.718915Z"
    }
   },
   "outputs": [],
   "source": [
    "# #################################################\n",
    "# FILL IN THE NECESSARY CODE\n",
    "# Implement the logistic regression loss function\n",
    "# (no need yet to include the regularization term)\n",
    "def lrCostFunction(theta, X, y, lmbda):\n",
    "    # as common mathematical convention vectors are passed as columns\n",
    "    # Output of np.matmul(theta.T, X.T) is a row, y.T is also a row\n",
    "    # before np.multiply both arrays must have the same shape\n",
    "    J = (-1/m)*np.sum(np.multiply(y.T, np.log(sigmoid(np.matmul(theta.T, X.T))))\n",
    "                      + np.multiply((1-y.T), np.log(1 - sigmoid(np.matmul(theta.T, X.T)))))\n",
    "    return J"
   ]
  },
  {
   "cell_type": "markdown",
   "metadata": {
    "ExecuteTime": {
     "end_time": "2021-09-29T20:22:27.772721Z",
     "start_time": "2021-09-29T20:22:25.942Z"
    }
   },
   "source": [
    "There are multiple ways to code cost function. What it is more important is the underlying mathematical ideas and our ability to translate them into code."
   ]
  },
  {
   "cell_type": "markdown",
   "metadata": {},
   "source": [
    "## Gradient Function"
   ]
  },
  {
   "cell_type": "code",
   "execution_count": 24,
   "metadata": {
    "ExecuteTime": {
     "end_time": "2022-10-19T09:04:18.236298Z",
     "start_time": "2022-10-19T09:04:18.223854Z"
    }
   },
   "outputs": [],
   "source": [
    "# #################################################\n",
    "# FILL IN THE NECESSARY CODE.\n",
    "# Implement GradientDescent\n",
    "def lrGradientDescent(theta, X, y, lmbda):\n",
    "    grad = (1/m) * np.matmul((sigmoid(np.matmul(theta.T, X.T)) - y.T), X)\n",
    "    return grad"
   ]
  },
  {
   "cell_type": "markdown",
   "metadata": {},
   "source": [
    "Let's call these functions using the initial parameters."
   ]
  },
  {
   "cell_type": "code",
   "execution_count": 25,
   "metadata": {},
   "outputs": [
    {
     "name": "stdout",
     "output_type": "stream",
     "text": [
      "(118, 29)\n",
      "(118, 1)\n",
      "(29, 1)\n"
     ]
    }
   ],
   "source": [
    "# Unfortunate notation\n",
    "# m is the number of datapoints and n is the number of features\n",
    "m, n = X_eng.shape\n",
    "X_eng = np.hstack((np.ones((m, 1)), X_eng))\n",
    "# y = y.to_numpy()  # WRONG! this gives shape (118,)\n",
    "y = y.to_numpy()[:, np.newaxis]  # this gives shape (118, 1)\n",
    "# we initialize our learning parameters to zero:\n",
    "theta = np.zeros((n + 1, 1))\n",
    "print(X_eng.shape)\n",
    "print(y.shape)\n",
    "print(theta.shape)"
   ]
  },
  {
   "cell_type": "markdown",
   "metadata": {},
   "source": [
    "- From the above results we keep in mind that both y and theta are column vectors"
   ]
  },
  {
   "cell_type": "code",
   "execution_count": 26,
   "metadata": {
    "ExecuteTime": {
     "end_time": "2022-10-19T09:04:19.551007Z",
     "start_time": "2022-10-19T09:04:19.531484Z"
    }
   },
   "outputs": [
    {
     "name": "stdout",
     "output_type": "stream",
     "text": [
      "Cost value : 0.6931471805599454\n"
     ]
    }
   ],
   "source": [
    "# Call the lrCostFunction with the correct parameters\n",
    "# (lmbda is not yet needed in the frist go)\n",
    "J = lrCostFunction(theta, X_eng, y, lmbda)\n",
    "print(f\"Cost value : {J}\")\n",
    "\n",
    "# This gives us a values of 0.69314718 ."
   ]
  },
  {
   "cell_type": "code",
   "execution_count": 27,
   "metadata": {
    "ExecuteTime": {
     "end_time": "2022-10-19T09:04:20.048816Z",
     "start_time": "2022-10-19T09:04:20.014568Z"
    }
   },
   "outputs": [
    {
     "name": "stdout",
     "output_type": "stream",
     "text": [
      "Prediction before optimization :  49.152542372881356 %\n"
     ]
    }
   ],
   "source": [
    "pred = [sigmoid(np.dot(X_eng, theta)) >= 0.5]\n",
    "print(\"Prediction before optimization : \", np.mean(pred == y.flatten()) * 100, '%')"
   ]
  },
  {
   "cell_type": "markdown",
   "metadata": {},
   "source": [
    "## Learning parameters using fmin_tnc\n",
    "fmin_tnc is an optimization solver that finds the minimum of an unconstrained function. For logistic \n",
    "regression, you want to optimize the cost function with the parameters theta."
   ]
  },
  {
   "cell_type": "code",
   "execution_count": 28,
   "metadata": {
    "ExecuteTime": {
     "end_time": "2021-09-30T10:08:23.607677Z",
     "start_time": "2021-09-30T10:08:23.547676Z"
    }
   },
   "outputs": [
    {
     "name": "stdout",
     "output_type": "stream",
     "text": [
      "Optimized values : [    6.99800808     6.99800808     8.72121478   -66.61244236\n",
      "    -9.27745518   110.21472899     2.56597451   -68.42864661\n",
      "    13.96471687   -79.25991547   -37.32645599   255.3496652\n",
      "     3.33896176  -234.31627992  -141.36968557  -107.10739912\n",
      "   589.25429055   155.06650992  -684.73843805  -119.16442252\n",
      "   463.96639057   329.71918737  -774.93052814   489.69523594\n",
      "   329.84245291 -1074.31716855   223.25337214  -753.49979345\n",
      "  -558.91345457]\n"
     ]
    }
   ],
   "source": [
    "output = opt.fmin_tnc(func = lrCostFunction, x0 = theta.flatten(), fprime = lrGradientDescent, \\\n",
    "                         args = (X_eng, y.flatten(), lmbda),messages=0)\n",
    "theta = output[0]\n",
    "print('Optimized values :', theta) # theta contains the optimized values"
   ]
  },
  {
   "cell_type": "markdown",
   "metadata": {},
   "source": [
    "Note on flatten() function: Unfortunately scipy's fmin_tnc doesn't work well with column or row vector. \n",
    "It expects the parameters to be in an array format. The flatten() function reduces a column or row vector \n",
    "into array format."
   ]
  },
  {
   "cell_type": "markdown",
   "metadata": {},
   "source": [
    "## Accuracy of model\n",
    "###############################\n",
    "\n",
    "Lets try to find the model accuracy by predicting the outcomes from our learned parameters and then comparing with the \n",
    "original outcomes."
   ]
  },
  {
   "cell_type": "code",
   "execution_count": 29,
   "metadata": {
    "ExecuteTime": {
     "end_time": "2021-09-30T10:08:23.623682Z",
     "start_time": "2021-09-30T10:08:23.607677Z"
    }
   },
   "outputs": [
    {
     "name": "stdout",
     "output_type": "stream",
     "text": [
      "Model accuracy after optimization and regularization : 88.13559322033898 %\n"
     ]
    }
   ],
   "source": [
    "pred = [sigmoid(np.dot(X_eng, theta)) >= 0.5]\n",
    "print('Model accuracy after optimization and regularization :',np.mean(pred == y.flatten()) * 100, '%')"
   ]
  },
  {
   "cell_type": "markdown",
   "metadata": {},
   "source": [
    "This gives our model accuracy as 85.59% (with degree = 6), with regularization.\n",
    "This gives our model accuracy as 83.05% (with degree = 6), without regularization."
   ]
  },
  {
   "cell_type": "markdown",
   "metadata": {},
   "source": [
    "## Plotting Decision Boundary (optional)\n",
    "\n",
    "To help you visualize the model learned by this classifier, we will plot the (non-linear) decision boundary that separates \n",
    "the positive and negative examples. We plot the non-linear decision boundary by computing the classifier's predictions on \n",
    "an evenly spaced grid and then draw a contour plot of where the predictions change from y = 0 to y = 1."
   ]
  },
  {
   "cell_type": "code",
   "execution_count": 59,
   "metadata": {
    "ExecuteTime": {
     "end_time": "2021-09-30T10:08:25.054726Z",
     "start_time": "2021-09-30T10:08:23.623682Z"
    }
   },
   "outputs": [
    {
     "ename": "ValueError",
     "evalue": "shapes (28,) and (29,) not aligned: 28 (dim 0) != 29 (dim 0)",
     "output_type": "error",
     "traceback": [
      "\u001b[0;31m---------------------------------------------------------------------------\u001b[0m",
      "\u001b[0;31mValueError\u001b[0m                                Traceback (most recent call last)",
      "Cell \u001b[0;32mIn [59], line 13\u001b[0m\n\u001b[1;32m     11\u001b[0m \u001b[38;5;28;01mfor\u001b[39;00m i \u001b[38;5;129;01min\u001b[39;00m \u001b[38;5;28mrange\u001b[39m(\u001b[38;5;28mlen\u001b[39m(u)):\n\u001b[1;32m     12\u001b[0m     \u001b[38;5;28;01mfor\u001b[39;00m j \u001b[38;5;129;01min\u001b[39;00m \u001b[38;5;28mrange\u001b[39m(\u001b[38;5;28mlen\u001b[39m(v)):\n\u001b[0;32m---> 13\u001b[0m         z[i,j] \u001b[38;5;241m=\u001b[39m np\u001b[38;5;241m.\u001b[39mdot(mapFeatureForPlotting(u[i], v[j], degree), theta)\n",
      "File \u001b[0;32m<__array_function__ internals>:180\u001b[0m, in \u001b[0;36mdot\u001b[0;34m(*args, **kwargs)\u001b[0m\n",
      "\u001b[0;31mValueError\u001b[0m: shapes (28,) and (29,) not aligned: 28 (dim 0) != 29 (dim 0)"
     ]
    }
   ],
   "source": [
    "def mapFeatureForPlotting(X1, X2, degree=6):\n",
    "    out = np.ones(1)\n",
    "    for i in range(1, degree+1):\n",
    "        for j in range(i+1):\n",
    "            out = np.hstack((out, np.multiply(np.power(X1, i-j), np.power(X2, j))))\n",
    "    return out\n",
    "\n",
    "u = np.linspace(-1, 1.5, 50)\n",
    "v = np.linspace(-1, 1.5, 50)\n",
    "z = np.zeros((len(u), len(v)))\n",
    "for i in range(len(u)):\n",
    "    for j in range(len(v)):\n",
    "        z[i,j] = np.dot(mapFeatureForPlotting(u[i], v[j], degree), theta)"
   ]
  },
  {
   "cell_type": "code",
   "execution_count": 19,
   "metadata": {
    "ExecuteTime": {
     "end_time": "2021-09-30T10:08:25.390997Z",
     "start_time": "2021-09-30T10:08:25.054726Z"
    }
   },
   "outputs": [
    {
     "data": {
      "image/png": "[encoded data removed]",
      "text/plain": [
       "<Figure size 432x288 with 1 Axes>"
      ]
     },
     "metadata": {
      "needs_background": "light"
     },
     "output_type": "display_data"
    },
    {
     "name": "stdout",
     "output_type": "stream",
     "text": [
      "End\n"
     ]
    }
   ],
   "source": [
    "mask = y.flatten() == 1\n",
    "X = data.iloc[:,:-1]\n",
    "passed = plt.scatter(X[mask][0], X[mask][1])\n",
    "failed = plt.scatter(X[~mask][0], X[~mask][1])\n",
    "plt.contour(u,v,z,0)\n",
    "plt.xlabel('Microchip Test1')\n",
    "plt.ylabel('Microchip Test2')\n",
    "plt.legend((passed, failed), ('Passed', 'Failed'))\n",
    "plt.show()\n",
    "print(\"End\")"
   ]
  },
  {
   "cell_type": "markdown",
   "metadata": {},
   "source": [
    "Our model has done pretty good job at classifying the various data points.\n",
    "Also try changing the values of lmbda to see for yourself how the decision boundary changes."
   ]
  }
 ],
 "metadata": {
  "hide_input": false,
  "interpreter": {
   "hash": "811e36bad7153009c771f0c7f84ef04f53e2a3df37e5eb07d874066f830ce698"
  },
  "kernelspec": {
   "display_name": "Python 3 (ipykernel)",
   "language": "python",
   "name": "python3"
  },
  "language_info": {
   "codemirror_mode": {
    "name": "ipython",
    "version": 3
   },
   "file_extension": ".py",
   "mimetype": "text/x-python",
   "name": "python",
   "nbconvert_exporter": "python",
   "pygments_lexer": "ipython3",
   "version": "3.10.6"
  },
  "latex_envs": {
   "LaTeX_envs_menu_present": true,
   "autoclose": true,
   "autocomplete": true,
   "bibliofile": "biblio.bib",
   "cite_by": "apalike",
   "current_citInitial": 1,
   "eqLabelWithNumbers": true,
   "eqNumInitial": 1,
   "hotkeys": {
    "equation": "Ctrl-E",
    "itemize": "Ctrl-I"
   },
   "labels_anchors": false,
   "latex_user_defs": false,
   "report_style_numbering": false,
   "user_envs_cfg": false
  },
  "toc": {
   "base_numbering": 1,
   "nav_menu": {},
   "number_sections": true,
   "sideBar": true,
   "skip_h1_title": false,
   "title_cell": "Table of Contents",
   "title_sidebar": "Contents",
   "toc_cell": false,
   "toc_position": {},
   "toc_section_display": true,
   "toc_window_display": false
  },
  "varInspector": {
   "cols": {
    "lenName": 16,
    "lenType": 16,
    "lenVar": 40
   },
   "kernels_config": {
    "python": {
     "delete_cmd_postfix": "",
     "delete_cmd_prefix": "del ",
     "library": "var_list.py",
     "varRefreshCmd": "print(var_dic_list())"
    },
    "r": {
     "delete_cmd_postfix": ") ",
     "delete_cmd_prefix": "rm(",
     "library": "var_list.r",
     "varRefreshCmd": "cat(var_dic_list()) "
    }
   },
   "types_to_exclude": [
    "module",
    "function",
    "builtin_function_or_method",
    "instance",
    "_Feature"
   ],
   "window_display": false
  }
 },
 "nbformat": 4,
 "nbformat_minor": 4
}
