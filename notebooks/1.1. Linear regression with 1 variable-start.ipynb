{
 "cells": [
  {
   "cell_type": "markdown",
   "metadata": {},
   "source": [
    "Here we will implement linear regression with one variable to predict profits for a food truck.  <br>\n",
    "Suppose you are the CEO of a restaurant franchise and are considering different cities for opening a new  \n",
    "outlet. The chain already has trucks in various cities and you have data for profits and populations from  \n",
    "the cities. <br>\n",
    "The file ex1data1.txt  contains the dataset for our linear regression exercise.  <br>\n",
    "The first column is the population of a city and the second column is the profit of  <br>\n",
    "a food truck in that city. A negative value for profit indicates a loss. <br>\n",
    "First, as with doing any machine learning task, we need to import certain libraries. <br>\n"
   ]
  },
  {
   "cell_type": "code",
   "execution_count": 43,
   "metadata": {},
   "outputs": [],
   "source": [
    "import numpy as np\n",
    "import pandas as pd\n",
    "import matplotlib.pyplot as plt"
   ]
  },
  {
   "cell_type": "markdown",
   "metadata": {},
   "source": [
    "Let's read and have a look at the data <br>\n",
    "Here we use the pandas read_csv function to read the comma separated values. <br>\n",
    "Watch out as we are using US-formatted data : ',' to separate elements and '.' used as decimal separator  <br>\n",
    "Also, we have used the head function to view the first few rows of our data.  <br>\n",
    "\n"
   ]
  },
  {
   "cell_type": "code",
   "execution_count": 44,
   "metadata": {},
   "outputs": [
    {
     "name": "stdout",
     "output_type": "stream",
     "text": [
      "        0        1\n",
      "0  6.1101  17.5920\n",
      "1  5.5277   9.1302\n",
      "2  8.5186  13.6620\n",
      "3  7.0032  11.8540\n",
      "4  5.8598   6.8233\n"
     ]
    }
   ],
   "source": [
    "data = pd.read_csv('Data/ex1data1.txt', header = None, delimiter = \",\") #read from dataset\n",
    "X = data.iloc[:,0] # read first column, will be put in a 'series' variable\n",
    "y = data.iloc[:,1] # read second column, will be put in a 'series' variable\n",
    "m = len(y) # number of training example (97)\n",
    "print(data.head()) # view first few rows of the data\n"
   ]
  },
  {
   "cell_type": "code",
   "execution_count": 45,
   "metadata": {},
   "outputs": [
    {
     "data": {
      "image/png": "[encoded data removed]",
      "text/plain": [
       "<Figure size 640x480 with 1 Axes>"
      ]
     },
     "metadata": {},
     "output_type": "display_data"
    }
   ],
   "source": [
    "# Reading and Plotting the data\n",
    "# Before starting on any task, try to visualize the data. \n",
    "# You can use a scatter plot to visualize this data, since it has only two properties to plot (profit and population).\n",
    "# For multidimensional data : cannot be plotted on a 2-d or 3-d plot. \n",
    "\n",
    "plt.scatter(X, y)\n",
    "plt.xlabel('Population of City in 10,000s')\n",
    "plt.ylabel('Profit in $10,000s')\n",
    "plt.show()\n",
    "\n"
   ]
  },
  {
   "cell_type": "markdown",
   "metadata": {},
   "source": [
    "Initializing and converting into an nparray, we want to make use of array manipulations (dot product eg) <br>\n",
    "In the following lines, we add another dimension to our data to accommodate the intercept term,  <br>\n",
    "we want to find the best values for Theta0 and Theta1 for the function y = Theta0 + Theta1 * x, by  <br>\n",
    "getting the error/cost as small as possible.  <br>\n",
    "We also initialize the initial parameters theta to 0 and the learning rate alpha to 0.01. <br>\n"
   ]
  },
  {
   "cell_type": "code",
   "execution_count": 46,
   "metadata": {},
   "outputs": [
    {
     "name": "stdout",
     "output_type": "stream",
     "text": [
      "<class 'pandas.core.series.Series'>\n"
     ]
    }
   ],
   "source": [
    "print(type(X)) # should be a pd.Series()\n",
    "X = X.to_numpy()[:,np.newaxis] # convert pd.Series() to an np.ndarray\n",
    "y = y.to_numpy()[:,np.newaxis] # convert pd.Series() to an np.ndarray\n",
    "\n",
    "# Will generate a warning:\n",
    "# Support for multi-dimensional indexing (e.g. `obj[:, None]`) is deprecated and will be removed in a future version.  Convert to a numpy array before indexing instead.\n",
    "\n",
    "# # Better w/o warning\n",
    "# X = X.to_numpy()[:,np.newaxis] # convert pd.Series() to an np.ndarray\n",
    "# y = y.to_numpy()[:,np.newaxis] # convert pd.Series() to an np.ndarray\n",
    "\n",
    "theta = np.zeros([2,1]) # start off with a (0, 0) array\n",
    "iterations = 100000 # \n",
    "alpha = 0.01 # magic number, defines the increase in change in Theta in every iteration we take\n",
    "\n",
    "# apply the trick we saw in the classroom of 'all ones' for x0, so that we can use matrix multiplication \n",
    "\n",
    "mx = X.shape[0]\n",
    "Xt = np.c_[np.ones((mx,1)), X]"
   ]
  },
  {
   "cell_type": "markdown",
   "metadata": {},
   "source": [
    "$$J = \\frac{\\sum_i{(y_i - \\hat{y}_{i})^2}}{2N}$$\n",
    "- $J$ : cost function\n",
    "- $N$ : size\n",
    "- $\\hat{y}$ : predicted value\n",
    "- $y$ : label"
   ]
  },
  {
   "cell_type": "code",
   "execution_count": 61,
   "metadata": {},
   "outputs": [],
   "source": [
    "def computeCost(X, y, theta, m) -> float:\n",
    "    \"\"\"\n",
    "    We are going to calculate the MSE (Mean Square Error).\n",
    "    NOT the RMSE (Root Mean Square Error)\n",
    "    Transpose operations of matrices are performed\n",
    "    to follow the algebraic mathematical formula.\n",
    "    This transpose is NOT needed but helps me to implement\n",
    "    \"\"\"\n",
    "    # FILL IN THE NECESSARY CODE. Return the cost.\n",
    "    ypred = np.matmul(theta.T, X.T)\n",
    "    mse = np.sum(np.square(y.T - ypred)) / (2 * m)\n",
    "    return mse"
   ]
  },
  {
   "cell_type": "code",
   "execution_count": 63,
   "metadata": {},
   "outputs": [
    {
     "name": "stdout",
     "output_type": "stream",
     "text": [
      "32.072733877455676\n"
     ]
    }
   ],
   "source": [
    "# What is the initial error/cost with the current theta0 and theta1 values = 0?\n",
    "# Assign the cost value to the variable J\n",
    "#\n",
    "# FILL IN THE NECESSARY CODE.\n",
    "#\n",
    "#\n",
    "#\n",
    "theta = np.zeros([2, 1])\n",
    "J = computeCost(Xt, y, theta, mx)\n",
    "print(J)\n",
    "# You get a cost of 32.072733877455676"
   ]
  },
  {
   "cell_type": "markdown",
   "metadata": {},
   "source": [
    "$$\\theta_j = \\theta_j - \\frac{\\alpha}{m}\\sum_{i=1}^m\\left[(h_{\\theta}(x^i) - y^i\\right]x_j^i$$\n",
    "$$h_{\\theta}=\\theta_i x_i$$"
   ]
  },
  {
   "cell_type": "code",
   "execution_count": 65,
   "metadata": {},
   "outputs": [
    {
     "name": "stdout",
     "output_type": "stream",
     "text": [
      "(1, 2)\n",
      "(2, 97)\n",
      "(1, 97)\n"
     ]
    }
   ],
   "source": [
    "print(theta.T.shape)\n",
    "print(Xt.T.shape)\n",
    "print(y.T.shape)"
   ]
  },
  {
   "cell_type": "code",
   "execution_count": 66,
   "metadata": {},
   "outputs": [],
   "source": [
    "def gradientDescent(X, y, theta, alpha, iterations):\n",
    "    # First work out what the partial derivatives are, then apply the gradientDescent \n",
    "    # Parameters:\n",
    "    # -----------\n",
    "    # X: matrix with the input variables\n",
    "    # y: the correct results\n",
    "    # alpha: learning rate\n",
    "    # iterations: The number of times the gradientDescent should run.\n",
    "    #\n",
    "    # FILL IN THE NECESSARY CODE.After the iterations are performed, return the theta0 and theta1 values.\n",
    "    for _ in range(iterations):\n",
    "        h = np.matmul(theta.T, X.T)\n",
    "        temp = h - y.T\n",
    "        # temp has dimensions (1, 97), X has dimensions (97, 2)\n",
    "        factor = np.matmul(temp, X)\n",
    "        # factor has dimensions (1, 2), theta has dimensions (2,1)\n",
    "        partial_derivatives = factor.T * alpha / len(X)\n",
    "        theta -= partial_derivatives\n",
    "    return theta"
   ]
  },
  {
   "cell_type": "code",
   "execution_count": 67,
   "metadata": {},
   "outputs": [
    {
     "name": "stdout",
     "output_type": "stream",
     "text": [
      "[[-3.89578088]\n",
      " [ 1.19303364]]\n"
     ]
    }
   ],
   "source": [
    "theta = gradientDescent(Xt, y, theta, alpha, iterations)\n",
    "print(theta)\n",
    "###  This should result in\n",
    "#  [[-3.89578088]\n",
    "#  [ 1.19303364]]\n",
    "###    "
   ]
  },
  {
   "cell_type": "code",
   "execution_count": 22,
   "metadata": {},
   "outputs": [],
   "source": [
    "# Can we improve on these results?\n",
    "# Try with different values for the number of iterations and with different learning rates\n",
    "# Try eg with as number of iterations: 500, 1500, 5000, 10000, 100000,...\n",
    "# Try a different learning rate: 0.1, 0.03, 0.01, 0.003, 0.001, ...  \n",
    "\n"
   ]
  },
  {
   "cell_type": "code",
   "execution_count": 73,
   "metadata": {},
   "outputs": [
    {
     "name": "stdout",
     "output_type": "stream",
     "text": [
      "Cost with 500 iterations: 4.713809531116866\n",
      "Cost with 1000 iterations: 4.515955503078913\n",
      "Cost with 1500 iterations: 4.483388256587726\n",
      "Cost with 10000 iterations: 4.476971375975179\n",
      "Cost with 1000000 iterations: 4.476971375975179\n"
     ]
    }
   ],
   "source": [
    "iter_values = [500, 1000, 1500, 10000, 1000000]\n",
    "for iteration in iter_values:\n",
    "    # init weights\n",
    "    theta0 = np.zeros([2, 1])\n",
    "    alpha = 0.01\n",
    "    thetar = gradientDescent(Xt, y, theta0, alpha, iteration)\n",
    "    J = computeCost(Xt, y, thetar, mx)\n",
    "    print(f\"Cost with {iteration} iterations: {J}\")"
   ]
  },
  {
   "cell_type": "markdown",
   "metadata": {},
   "source": [
    "Cost with 500    iterations : 4.713809531116866 <br>\n",
    "Cost with 1000   iterations : 4.515955503078912 <br>\n",
    "Cost with 1500   iterations : 4.483388256587726 <br>\n",
    "Cost with 10000  iterations : 4.476971375975179 <br>\n",
    "Cost with 100000 iterations : 4.476971375975179 <br>"
   ]
  },
  {
   "cell_type": "code",
   "execution_count": 72,
   "metadata": {},
   "outputs": [
    {
     "data": {
      "image/png": "[encoded data removed]",
      "text/plain": [
       "<Figure size 640x480 with 1 Axes>"
      ]
     },
     "metadata": {},
     "output_type": "display_data"
    }
   ],
   "source": [
    "plt.scatter(Xt[:,1], y)\n",
    "plt.xlabel('Population of City in 10,000s')\n",
    "plt.ylabel('Profit in $10,000s')\n",
    "plt.plot(Xt[:,1], np.dot(Xt, theta))\n",
    "plt.show()\n"
   ]
  }
 ],
 "metadata": {
  "interpreter": {
   "hash": "811e36bad7153009c771f0c7f84ef04f53e2a3df37e5eb07d874066f830ce698"
  },
  "kernelspec": {
   "display_name": "Python 3 (ipykernel)",
   "language": "python",
   "name": "python3"
  },
  "language_info": {
   "codemirror_mode": {
    "name": "ipython",
    "version": 3
   },
   "file_extension": ".py",
   "mimetype": "text/x-python",
   "name": "python",
   "nbconvert_exporter": "python",
   "pygments_lexer": "ipython3",
   "version": "3.10.6"
  },
  "toc": {
   "base_numbering": 1,
   "nav_menu": {},
   "number_sections": true,
   "sideBar": true,
   "skip_h1_title": false,
   "title_cell": "Table of Contents",
   "title_sidebar": "Contents",
   "toc_cell": false,
   "toc_position": {},
   "toc_section_display": true,
   "toc_window_display": false
  }
 },
 "nbformat": 4,
 "nbformat_minor": 4
}
